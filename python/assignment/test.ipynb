{
 "cells": [
  {
   "cell_type": "code",
   "execution_count": null,
   "metadata": {},
   "outputs": [],
   "source": [
    "# For regression (predicting 'Income')\n",
    "data = df\n",
    "X_feature = data['Education'].values.reshape(-1,1)\n",
    "y_target = data['Income']\n",
    "\n",
    "# # split into training data and testing data\n",
    "X_train, X_test, y_train, y_test = train_test_split(X_feature, y_target, test_size=0.3, random_state=42)\n",
    "\n",
    "# # Linear regression for predicting 'Income'\n",
    "linear_reg = LinearRegression()\n",
    "linear_reg.fit(X_train, y_train)\n",
    "y_pred = linear_reg.predict(X_test)\n",
    "print(y_pred)\n",
    "\n",
    "# # Model evaluation for regression\n",
    "mse = mean_squared_error(y_test, y_pred)\n",
    "rmse = np.sqrt(mse)\n",
    "print(f\"Mean Squared Error for Linear Regression: {mse}\")\n",
    "\n",
    "\n",
    "# plt.figure(figsize=(12, 8))\n",
    "# sns.heatmap(data.corr(), annot=True, cmap='coolwarm')\n",
    "# plt.title('Correlation Heatmap')\n",
    "# plt.show()"
   ]
  },
  {
   "cell_type": "code",
   "execution_count": null,
   "metadata": {},
   "outputs": [],
   "source": [
    "def cross_validation(algorithm_model, folds=5, modelname=\"\"):\n",
    "    kfold = KFold(n_splits=folds)\n",
    "    scores = []\n",
    "    \n",
    "    # excute cross validation \n",
    "    for i , (train_index, test_index) in enumerate(kfold.split(X_features)):\n",
    "        # create data for training and testing by kfold splited index\n",
    "        X_train, X_test = X_features.values[train_index], X_features.values[test_index]\n",
    "        y_train, y_test = y_targets.values[train_index], y_targets.values[test_index]\n",
    "        \n",
    "        # Classifier fit, predict, accuracy  \n",
    "        algorithm_model.fit(X_train, y_train) \n",
    "        predictions = algorithm_model.predict(X_test)\n",
    "        accuracy = accuracy_score(y_test, predictions)\n",
    "        scores.append(accuracy)\n",
    "        print(\"{0}'s Closs Validation {1} Accuracy: {2:.4f}\".format(modelname, i, accuracy))     \n",
    "    # avarage of accuracy \n",
    "    mean_score = np.mean(scores)\n",
    "    min_score = np.min(scores)\n",
    "    print(\"Avarage Accuracy: {0:.4f}\".format(mean_score)) \n",
    "    print(\"Min Accuracy: {0:.4f}\".format(min_score)) \n",
    "    print(\"\\n\")\n",
    "\n",
    "# invoke cross valication\n",
    "cross_validation(decision_tree , folds=10, modelname=\"Decision Tree\") \n",
    "cross_validation(random_forest , folds=10, modelname=\"Random Forest\") \n",
    "cross_validation(logistic_regression , folds=10, modelname=\"Logistic Regression\") "
   ]
  }
 ],
 "metadata": {
  "language_info": {
   "name": "python"
  },
  "orig_nbformat": 4
 },
 "nbformat": 4,
 "nbformat_minor": 2
}
