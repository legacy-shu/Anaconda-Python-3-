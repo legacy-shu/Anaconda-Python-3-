{
 "cells": [
  {
   "cell_type": "code",
   "execution_count": null,
   "metadata": {},
   "outputs": [],
   "source": [
    "# For regression (predicting 'Income')\n",
    "data = df\n",
    "X_feature = data['Education'].values.reshape(-1,1)\n",
    "y_target = data['Income']\n",
    "\n",
    "# # split into training data and testing data\n",
    "X_train, X_test, y_train, y_test = train_test_split(X_feature, y_target, test_size=0.3, random_state=42)\n",
    "\n",
    "# # Linear regression for predicting 'Income'\n",
    "linear_reg = LinearRegression()\n",
    "linear_reg.fit(X_train, y_train)\n",
    "y_pred = linear_reg.predict(X_test)\n",
    "print(y_pred)\n",
    "\n",
    "# # Model evaluation for regression\n",
    "mse = mean_squared_error(y_test, y_pred)\n",
    "rmse = np.sqrt(mse)\n",
    "print(f\"Mean Squared Error for Linear Regression: {mse}\")\n",
    "\n",
    "\n",
    "# plt.figure(figsize=(12, 8))\n",
    "# sns.heatmap(data.corr(), annot=True, cmap='coolwarm')\n",
    "# plt.title('Correlation Heatmap')\n",
    "# plt.show()"
   ]
  }
 ],
 "metadata": {
  "language_info": {
   "name": "python"
  },
  "orig_nbformat": 4
 },
 "nbformat": 4,
 "nbformat_minor": 2
}
