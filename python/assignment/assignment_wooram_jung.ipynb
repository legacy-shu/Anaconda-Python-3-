{
 "cells": [
  {
   "attachments": {},
   "cell_type": "markdown",
   "metadata": {},
   "source": [
    "# Machine Learning Assignment\n",
    "\n",
    "#### <div style=\"text-align: right\">WOORAM JUNG(c1032849)</div>\n"
   ]
  },
  {
   "attachments": {},
   "cell_type": "markdown",
   "metadata": {},
   "source": [
    "### Table of Contents in this project\n",
    "* [1 Data Exploration](#heading_1)\n",
    "    * [1.1 Cleaning and pre-processing](#heading_1_1)\n",
    "    * [1.2 Section](#heading_1_2)\n",
    "        * [1.2.1 Section](#heading_1_2_1)\n",
    "        * [1.2.2 Section](#heading_1_2_2)\n",
    "        * [1.2.3 Section](#heading_1_2_3)\n",
    "* [2 Feature analysis](#heading_2)\n",
    "    * [2.1 Section](#heading_2_1)\n",
    "    * [2.2 Section](#heading_2_2) \n",
    "* [3 Machine Learning](#heading_3)\n",
    "    * [3.1 Section](#heading_2_1)\n",
    "    * [3.2 Section](#heading_2_2) \n",
    "* [4 Evaluation](#heading_4)\n"
   ]
  },
  {
   "attachments": {},
   "cell_type": "markdown",
   "metadata": {},
   "source": [
    "### 1 Data Exproration <a class=\"anchor\" id=\"heading_1\"></a>\n",
    "#### 1.1 Cleaning and pre-processing <a class=\"anchor\" id=\"heading_1_1\"></a>\n"
   ]
  },
  {
   "cell_type": "code",
   "execution_count": 5,
   "metadata": {},
   "outputs": [
    {
     "name": "stdout",
     "output_type": "stream",
     "text": [
      "     Income Post-code Employed Home Owner   Education Gender Balance Age  \\\n",
      "0     10500        C4      NaN          N      School      F     300  25   \n",
      "1     26525        G5        Y          N     College   Male    3500  25   \n",
      "2      8230        A1        N          N      School      F    1250  25   \n",
      "3     25000        S5        N          N          U       F    6755  19   \n",
      "4     15250        G7       No          N      School   Male     810  23   \n",
      "..      ...       ...      ...        ...         ...    ...     ...  ..   \n",
      "115   45050        G8        Y          Y  University   Male   54500  54   \n",
      "116   11250        D4        N          N      School      F    3250  29   \n",
      "117    7450        D1        N          N        Coll   Male    4560  19   \n",
      "118   12250        F5        N          N        Uni       F     300  25   \n",
      "119    8450       NaN        N          N           S      M    2455  23   \n",
      "\n",
      "     Colour Fraud  \n",
      "0    Yellow     N  \n",
      "1     Green     N  \n",
      "2       Red     1  \n",
      "3    Yellow     Y  \n",
      "4       Red     Y  \n",
      "..      ...   ...  \n",
      "115  Yellow     N  \n",
      "116     Red     1  \n",
      "117     Red     Y  \n",
      "118  Yellow     N  \n",
      "119     Red     Y  \n",
      "\n",
      "[120 rows x 10 columns]\n"
     ]
    },
    {
     "ename": "TypeError",
     "evalue": "'tuple' object is not callable",
     "output_type": "error",
     "traceback": [
      "\u001b[0;31m---------------------------------------------------------------------------\u001b[0m",
      "\u001b[0;31mTypeError\u001b[0m                                 Traceback (most recent call last)",
      "\u001b[0;32m/tmp/ipykernel_5217/2050950910.py\u001b[0m in \u001b[0;36m<module>\u001b[0;34m\u001b[0m\n\u001b[1;32m      2\u001b[0m \u001b[0mdf\u001b[0m \u001b[0;34m=\u001b[0m \u001b[0mpd\u001b[0m\u001b[0;34m.\u001b[0m\u001b[0mread_csv\u001b[0m\u001b[0;34m(\u001b[0m\u001b[0;34m'cwdata.csv'\u001b[0m\u001b[0;34m)\u001b[0m\u001b[0;34m\u001b[0m\u001b[0;34m\u001b[0m\u001b[0m\n\u001b[1;32m      3\u001b[0m \u001b[0mprint\u001b[0m\u001b[0;34m(\u001b[0m\u001b[0mdf\u001b[0m\u001b[0;34m)\u001b[0m\u001b[0;34m\u001b[0m\u001b[0;34m\u001b[0m\u001b[0m\n\u001b[0;32m----> 4\u001b[0;31m \u001b[0mdf\u001b[0m\u001b[0;34m.\u001b[0m\u001b[0mshape\u001b[0m\u001b[0;34m(\u001b[0m\u001b[0;34m)\u001b[0m\u001b[0;34m\u001b[0m\u001b[0;34m\u001b[0m\u001b[0m\n\u001b[0m",
      "\u001b[0;31mTypeError\u001b[0m: 'tuple' object is not callable"
     ]
    }
   ],
   "source": [
    "import pandas as pd\n",
    "df = pd.read_csv('cwdata.csv')\n",
    "print(df)\n",
    "df.shape()\n"
   ]
  },
  {
   "cell_type": "code",
   "execution_count": 4,
   "metadata": {},
   "outputs": [
    {
     "name": "stdout",
     "output_type": "stream",
     "text": [
      "<class 'pandas.core.frame.DataFrame'>\n",
      "RangeIndex: 120 entries, 0 to 119\n",
      "Data columns (total 10 columns):\n",
      " #   Column      Non-Null Count  Dtype \n",
      "---  ------      --------------  ----- \n",
      " 0   Income      120 non-null    int64 \n",
      " 1   Post-code   119 non-null    object\n",
      " 2   Employed    118 non-null    object\n",
      " 3   Home Owner  117 non-null    object\n",
      " 4   Education   117 non-null    object\n",
      " 5   Gender      118 non-null    object\n",
      " 6   Balance     119 non-null    object\n",
      " 7   Age         120 non-null    object\n",
      " 8   Colour      120 non-null    object\n",
      " 9   Fraud       120 non-null    object\n",
      "dtypes: int64(1), object(9)\n",
      "memory usage: 9.5+ KB\n"
     ]
    }
   ],
   "source": [
    "\"\"\"\n",
    "find missing data in this result shows that \n",
    "'Post-code','Employed','Home Owner','Education','Gender' and 'Balance' \n",
    "columns have missing data\n",
    "\"\"\"\n",
    "df.info()"
   ]
  },
  {
   "cell_type": "code",
   "execution_count": 6,
   "metadata": {},
   "outputs": [
    {
     "data": {
      "text/html": [
       "<div>\n",
       "<style scoped>\n",
       "    .dataframe tbody tr th:only-of-type {\n",
       "        vertical-align: middle;\n",
       "    }\n",
       "\n",
       "    .dataframe tbody tr th {\n",
       "        vertical-align: top;\n",
       "    }\n",
       "\n",
       "    .dataframe thead th {\n",
       "        text-align: right;\n",
       "    }\n",
       "</style>\n",
       "<table border=\"1\" class=\"dataframe\">\n",
       "  <thead>\n",
       "    <tr style=\"text-align: right;\">\n",
       "      <th></th>\n",
       "      <th>Income</th>\n",
       "    </tr>\n",
       "  </thead>\n",
       "  <tbody>\n",
       "    <tr>\n",
       "      <th>count</th>\n",
       "      <td>120.000000</td>\n",
       "    </tr>\n",
       "    <tr>\n",
       "      <th>mean</th>\n",
       "      <td>32803.166667</td>\n",
       "    </tr>\n",
       "    <tr>\n",
       "      <th>std</th>\n",
       "      <td>26920.705770</td>\n",
       "    </tr>\n",
       "    <tr>\n",
       "      <th>min</th>\n",
       "      <td>5450.000000</td>\n",
       "    </tr>\n",
       "    <tr>\n",
       "      <th>25%</th>\n",
       "      <td>12340.000000</td>\n",
       "    </tr>\n",
       "    <tr>\n",
       "      <th>50%</th>\n",
       "      <td>24225.000000</td>\n",
       "    </tr>\n",
       "    <tr>\n",
       "      <th>75%</th>\n",
       "      <td>45050.000000</td>\n",
       "    </tr>\n",
       "    <tr>\n",
       "      <th>max</th>\n",
       "      <td>150600.000000</td>\n",
       "    </tr>\n",
       "  </tbody>\n",
       "</table>\n",
       "</div>"
      ],
      "text/plain": [
       "              Income\n",
       "count     120.000000\n",
       "mean    32803.166667\n",
       "std     26920.705770\n",
       "min      5450.000000\n",
       "25%     12340.000000\n",
       "50%     24225.000000\n",
       "75%     45050.000000\n",
       "max    150600.000000"
      ]
     },
     "execution_count": 6,
     "metadata": {},
     "output_type": "execute_result"
    }
   ],
   "source": [
    "\"\"\"\n",
    "Income is the only numeric data\n",
    "and 50% and mean value is some diffrent why?\n",
    "\"\"\"\n",
    "df.describe()"
   ]
  },
  {
   "cell_type": "code",
   "execution_count": 7,
   "metadata": {},
   "outputs": [
    {
     "data": {
      "text/plain": [
       "Income        0\n",
       "Post-code     1\n",
       "Employed      2\n",
       "Home Owner    3\n",
       "Education     3\n",
       "Gender        2\n",
       "Balance       1\n",
       "Age           0\n",
       "Colour        0\n",
       "Fraud         0\n",
       "dtype: int64"
      ]
     },
     "execution_count": 7,
     "metadata": {},
     "output_type": "execute_result"
    }
   ],
   "source": [
    "\"\"\"\n",
    "missing data of the each columns\n",
    "\"\"\"\n",
    "df.isnull().sum()"
   ]
  },
  {
   "cell_type": "code",
   "execution_count": 9,
   "metadata": {},
   "outputs": [
    {
     "data": {
      "text/plain": [
       "Index(['Income', 'Post-code', 'Employed', 'Home Owner', 'Education', 'Gender',\n",
       "       'Balance', 'Age', 'Colour', 'Fraud'],\n",
       "      dtype='object')"
      ]
     },
     "execution_count": 9,
     "metadata": {},
     "output_type": "execute_result"
    }
   ],
   "source": [
    "df.columns"
   ]
  }
 ],
 "metadata": {
  "kernelspec": {
   "display_name": "Python 3",
   "language": "python",
   "name": "python3"
  },
  "language_info": {
   "codemirror_mode": {
    "name": "ipython",
    "version": 3
   },
   "file_extension": ".py",
   "mimetype": "text/x-python",
   "name": "python",
   "nbconvert_exporter": "python",
   "pygments_lexer": "ipython3",
   "version": "3.9.13"
  },
  "orig_nbformat": 4
 },
 "nbformat": 4,
 "nbformat_minor": 2
}
