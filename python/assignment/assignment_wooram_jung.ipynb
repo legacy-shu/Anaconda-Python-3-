{
 "cells": [
  {
   "attachments": {},
   "cell_type": "markdown",
   "metadata": {},
   "source": [
    "# Machine Learning Assignment\n",
    "\n",
    "#### <div style=\"text-align: right\">WOORAM JUNG(c1032849)</div>\n"
   ]
  },
  {
   "attachments": {},
   "cell_type": "markdown",
   "metadata": {},
   "source": [
    "### Table of Contents in this project\n",
    "* [1 Data Exploration](#heading_1)\n",
    "    * [1.1 Cleaning and pre-processing](#heading_1_1)\n",
    "    * [1.2 Section](#heading_1_2)\n",
    "        * [1.2.1 Section](#heading_1_2_1)\n",
    "        * [1.2.2 Section](#heading_1_2_2)\n",
    "        * [1.2.3 Section](#heading_1_2_3)\n",
    "* [2 Feature analysis](#heading_2)\n",
    "    * [2.1 Section](#heading_2_1)\n",
    "    * [2.2 Section](#heading_2_2) \n",
    "* [3 Machine Learning](#heading_3)\n",
    "    * [3.1 Section](#heading_2_1)\n",
    "    * [3.2 Section](#heading_2_2) \n",
    "* [4 Evaluation](#heading_4)\n"
   ]
  },
  {
   "attachments": {},
   "cell_type": "markdown",
   "metadata": {},
   "source": [
    "### 1 Data Exproration <a class=\"anchor\" id=\"heading_1\"></a>\n",
    "#### 1.1 Cleaning and pre-processing <a class=\"anchor\" id=\"heading_1_1\"></a>\n"
   ]
  },
  {
   "cell_type": "code",
   "execution_count": 60,
   "metadata": {},
   "outputs": [
    {
     "name": "stdout",
     "output_type": "stream",
     "text": [
      "   Income Post-code Employed Home Owner Education Gender Balance Age  Colour  \\\n",
      "0   10500        C4      NaN          N    School      F     300  25  Yellow   \n",
      "1   26525        G5        Y          N   College   Male    3500  25   Green   \n",
      "2    8230        A1        N          N    School      F    1250  25     Red   \n",
      "3   25000        S5        N          N        U       F    6755  19  Yellow   \n",
      "4   15250        G7       No          N    School   Male     810  23     Red   \n",
      "\n",
      "  Fraud  \n",
      "0     N  \n",
      "1     N  \n",
      "2     1  \n",
      "3     Y  \n",
      "4     Y  \n"
     ]
    },
    {
     "data": {
      "text/plain": [
       "(120, 10)"
      ]
     },
     "execution_count": 60,
     "metadata": {},
     "output_type": "execute_result"
    }
   ],
   "source": [
    "import pandas as pd\n",
    "import numpy as np\n",
    "from sklearn.preprocessing import LabelEncoder\n",
    "\n",
    "df = pd.read_csv('cwdata.csv')\n",
    "encoder = LabelEncoder()\n",
    "\n",
    "pd.options.display.max_rows = None\n",
    "pd.options.display.max_columns = None\n",
    "\n",
    "print(df.head())\n",
    "df.shape\n"
   ]
  },
  {
   "cell_type": "code",
   "execution_count": 61,
   "metadata": {},
   "outputs": [
    {
     "name": "stdout",
     "output_type": "stream",
     "text": [
      "<class 'pandas.core.frame.DataFrame'>\n",
      "RangeIndex: 120 entries, 0 to 119\n",
      "Data columns (total 10 columns):\n",
      " #   Column      Non-Null Count  Dtype \n",
      "---  ------      --------------  ----- \n",
      " 0   Income      120 non-null    int64 \n",
      " 1   Post-code   119 non-null    object\n",
      " 2   Employed    118 non-null    object\n",
      " 3   Home Owner  117 non-null    object\n",
      " 4   Education   117 non-null    object\n",
      " 5   Gender      118 non-null    object\n",
      " 6   Balance     119 non-null    object\n",
      " 7   Age         120 non-null    object\n",
      " 8   Colour      120 non-null    object\n",
      " 9   Fraud       120 non-null    object\n",
      "dtypes: int64(1), object(9)\n",
      "memory usage: 9.5+ KB\n"
     ]
    }
   ],
   "source": [
    "\"\"\"\n",
    "find missing data in this result shows that \n",
    "'Post-code','Employed','Home Owner','Education','Gender' and 'Balance' \n",
    "columns have missing data\n",
    "\"\"\"\n",
    "df.info()"
   ]
  },
  {
   "cell_type": "code",
   "execution_count": 62,
   "metadata": {},
   "outputs": [
    {
     "data": {
      "text/html": [
       "<div>\n",
       "<style scoped>\n",
       "    .dataframe tbody tr th:only-of-type {\n",
       "        vertical-align: middle;\n",
       "    }\n",
       "\n",
       "    .dataframe tbody tr th {\n",
       "        vertical-align: top;\n",
       "    }\n",
       "\n",
       "    .dataframe thead th {\n",
       "        text-align: right;\n",
       "    }\n",
       "</style>\n",
       "<table border=\"1\" class=\"dataframe\">\n",
       "  <thead>\n",
       "    <tr style=\"text-align: right;\">\n",
       "      <th></th>\n",
       "      <th>Income</th>\n",
       "    </tr>\n",
       "  </thead>\n",
       "  <tbody>\n",
       "    <tr>\n",
       "      <th>count</th>\n",
       "      <td>120.000000</td>\n",
       "    </tr>\n",
       "    <tr>\n",
       "      <th>mean</th>\n",
       "      <td>32803.166667</td>\n",
       "    </tr>\n",
       "    <tr>\n",
       "      <th>std</th>\n",
       "      <td>26920.705770</td>\n",
       "    </tr>\n",
       "    <tr>\n",
       "      <th>min</th>\n",
       "      <td>5450.000000</td>\n",
       "    </tr>\n",
       "    <tr>\n",
       "      <th>25%</th>\n",
       "      <td>12340.000000</td>\n",
       "    </tr>\n",
       "    <tr>\n",
       "      <th>50%</th>\n",
       "      <td>24225.000000</td>\n",
       "    </tr>\n",
       "    <tr>\n",
       "      <th>75%</th>\n",
       "      <td>45050.000000</td>\n",
       "    </tr>\n",
       "    <tr>\n",
       "      <th>max</th>\n",
       "      <td>150600.000000</td>\n",
       "    </tr>\n",
       "  </tbody>\n",
       "</table>\n",
       "</div>"
      ],
      "text/plain": [
       "              Income\n",
       "count     120.000000\n",
       "mean    32803.166667\n",
       "std     26920.705770\n",
       "min      5450.000000\n",
       "25%     12340.000000\n",
       "50%     24225.000000\n",
       "75%     45050.000000\n",
       "max    150600.000000"
      ]
     },
     "execution_count": 62,
     "metadata": {},
     "output_type": "execute_result"
    }
   ],
   "source": [
    "df.describe()"
   ]
  },
  {
   "cell_type": "code",
   "execution_count": 63,
   "metadata": {},
   "outputs": [
    {
     "data": {
      "text/plain": [
       "Income        0\n",
       "Post-code     1\n",
       "Employed      2\n",
       "Home Owner    3\n",
       "Education     3\n",
       "Gender        2\n",
       "Balance       1\n",
       "Age           0\n",
       "Colour        0\n",
       "Fraud         0\n",
       "dtype: int64"
      ]
     },
     "execution_count": 63,
     "metadata": {},
     "output_type": "execute_result"
    }
   ],
   "source": [
    "\n",
    "# how many null? and where?\n",
    "df.isnull().sum()"
   ]
  },
  {
   "cell_type": "code",
   "execution_count": 64,
   "metadata": {},
   "outputs": [],
   "source": [
    "# handle inconsistencies in variable and fill in missing values with the mode (most frequent value)\n",
    "df['Education'] = df['Education'].str.strip()\n",
    "df['Education'] = df['Education'].replace({\n",
    "    'School': 'S', \n",
    "    'College': 'C',\n",
    "    'Coll': 'C',\n",
    "    'University': 'U',\n",
    "    'Uni': 'U',\n",
    "    '': np.nan})\n",
    "df['Education'] = df['Education'].fillna(df['Education'].mode().iloc[0])\n",
    "# transform to numuric data\n",
    "df['Education'] = encoder.fit_transform(df['Education'].values)\n",
    "# print(df['Education'])"
   ]
  },
  {
   "cell_type": "code",
   "execution_count": 65,
   "metadata": {},
   "outputs": [],
   "source": [
    "# handle inconsistencies in variable and fill in missing values with the mode (most frequent value)\n",
    "df['Employed'] = df['Employed'].fillna(df['Employed'].mode().iloc[0])\n",
    "df['Employed'] = df['Employed'].replace({'Yes': 'Y', 'No': 'N'})\n",
    "# transform to numuric data\n",
    "df['Employed'] = encoder.fit_transform(df['Employed'].values)\n",
    "# print(df['Employed'])"
   ]
  },
  {
   "cell_type": "code",
   "execution_count": 66,
   "metadata": {},
   "outputs": [],
   "source": [
    "# handle inconsistencies in variable and fill in missing values with the mode (most frequent value)\n",
    "df['Home Owner'] = df['Home Owner'].fillna(df['Home Owner'].mode().iloc[0])\n",
    "df['Home Owner'] = df['Home Owner'].replace({'Yes': 'Y', 'No': 'N'})\n",
    "# transform to numuric data\n",
    "df['Home Owner'] = encoder.fit_transform(df['Home Owner'].values)\n",
    "# print(df['Home Owner'])"
   ]
  },
  {
   "cell_type": "code",
   "execution_count": 67,
   "metadata": {},
   "outputs": [],
   "source": [
    "# handle inconsistencies\n",
    "df['Fraud'] = df['Fraud'].replace({ 'No': 'N',  'Yes': 'Y'})\n",
    "# transform to numuric data\n",
    "df['Fraud'] = encoder.fit_transform(df['Fraud'].values)\n",
    "# print(df['Fraud'])"
   ]
  },
  {
   "cell_type": "code",
   "execution_count": 68,
   "metadata": {},
   "outputs": [],
   "source": [
    "# handle inconsistencies\n",
    "df['Gender'] = df['Gender'].fillna(df['Gender'].mode().iloc[0])\n",
    "df['Gender'] = df['Gender'].replace({'Male':'M','Female':'F' })\n",
    "# transform to numuric data\n",
    "df['Gender'] = encoder.fit_transform(df['Gender'].values)\n",
    "# print(df['Gender'] )"
   ]
  },
  {
   "cell_type": "code",
   "execution_count": 69,
   "metadata": {},
   "outputs": [],
   "source": [
    "# fill in missing value with median and convert numuric value\n",
    "df['Age'] = pd.to_numeric(df['Age'], errors='coerce')\n",
    "df['Age'] = df['Age'].fillna(df['Age'].median()).round(0)\n",
    "# print(df['Age'])"
   ]
  },
  {
   "cell_type": "code",
   "execution_count": 70,
   "metadata": {},
   "outputs": [],
   "source": [
    "# Fill in missing values with the mean and change string to float\n",
    "df['Balance'] = pd.to_numeric(df['Balance'], errors='coerce')\n",
    "df['Balance'] = df['Balance'].fillna(df['Balance'].mean()).round(0)\n",
    "# print(df['Balance'])"
   ]
  },
  {
   "cell_type": "code",
   "execution_count": 71,
   "metadata": {},
   "outputs": [],
   "source": [
    "# Fill in missing values with the mode\n",
    "df['Post-code'] = df['Post-code'].fillna(df['Post-code'].mode().iloc[0])\n",
    "# transform to numuric data\n",
    "df['Post-code'] = encoder.fit_transform(df['Post-code'].values)\n",
    "# print(df['Post-code'])"
   ]
  },
  {
   "cell_type": "code",
   "execution_count": 72,
   "metadata": {},
   "outputs": [],
   "source": [
    "# handle inconsistencies\n",
    "df['Colour'] = df['Colour'].replace({'Res':'Red'})\n",
    "# transform to numuric data\n",
    "df['Colour'] = encoder.fit_transform(df['Colour'].values)"
   ]
  },
  {
   "cell_type": "code",
   "execution_count": 73,
   "metadata": {},
   "outputs": [],
   "source": [
    "# Save for backup\n",
    "# df.to_csv('cleaned_data.csv', index=False) "
   ]
  },
  {
   "cell_type": "code",
   "execution_count": 74,
   "metadata": {},
   "outputs": [
    {
     "name": "stdout",
     "output_type": "stream",
     "text": [
      "Income          int64\n",
      "Post-code       int64\n",
      "Employed        int64\n",
      "Home Owner      int64\n",
      "Education       int64\n",
      "Gender          int64\n",
      "Balance       float64\n",
      "Age           float64\n",
      "Colour          int64\n",
      "Fraud           int64\n",
      "dtype: object\n",
      "Income        0\n",
      "Post-code     0\n",
      "Employed      0\n",
      "Home Owner    0\n",
      "Education     0\n",
      "Gender        0\n",
      "Balance       0\n",
      "Age           0\n",
      "Colour        0\n",
      "Fraud         0\n",
      "dtype: int64\n",
      "              Income   Post-code    Employed  Home Owner   Education  \\\n",
      "count     120.000000  120.000000  120.000000  120.000000  120.000000   \n",
      "mean    32803.166667   38.341667    0.300000    0.325000    1.016667   \n",
      "std     26920.705770   22.050551    0.460179    0.470339    0.685790   \n",
      "min      5450.000000    0.000000    0.000000    0.000000    0.000000   \n",
      "25%     12340.000000   18.750000    0.000000    0.000000    1.000000   \n",
      "50%     24225.000000   39.000000    0.000000    0.000000    1.000000   \n",
      "75%     45050.000000   55.250000    1.000000    1.000000    1.000000   \n",
      "max    150600.000000   78.000000    1.000000    1.000000    2.000000   \n",
      "\n",
      "           Gender        Balance         Age      Colour       Fraud  \n",
      "count  120.000000     120.000000  120.000000  120.000000  120.000000  \n",
      "mean     0.500000   15274.833333   31.833333    3.225000    2.083333  \n",
      "std      0.502096   28372.139955   12.655310    1.707436    0.835990  \n",
      "min      0.000000       0.000000   18.000000    0.000000    0.000000  \n",
      "25%      0.000000    1102.500000   25.000000    2.000000    2.000000  \n",
      "50%      0.500000    4300.000000   25.000000    4.000000    2.000000  \n",
      "75%      1.000000   15432.500000   35.250000    4.000000    3.000000  \n",
      "max      1.000000  240000.000000   72.000000    5.000000    3.000000  \n",
      "<class 'pandas.core.frame.DataFrame'>\n",
      "RangeIndex: 120 entries, 0 to 119\n",
      "Data columns (total 10 columns):\n",
      " #   Column      Non-Null Count  Dtype  \n",
      "---  ------      --------------  -----  \n",
      " 0   Income      120 non-null    int64  \n",
      " 1   Post-code   120 non-null    int64  \n",
      " 2   Employed    120 non-null    int64  \n",
      " 3   Home Owner  120 non-null    int64  \n",
      " 4   Education   120 non-null    int64  \n",
      " 5   Gender      120 non-null    int64  \n",
      " 6   Balance     120 non-null    float64\n",
      " 7   Age         120 non-null    float64\n",
      " 8   Colour      120 non-null    int64  \n",
      " 9   Fraud       120 non-null    int64  \n",
      "dtypes: float64(2), int64(8)\n",
      "memory usage: 9.5 KB\n",
      "None\n"
     ]
    }
   ],
   "source": [
    "#show all cleaned data\n",
    "print(df.dtypes)\n",
    "print(df.isnull().sum())\n",
    "print(df.describe())\n",
    "print(df.info())"
   ]
  },
  {
   "cell_type": "code",
   "execution_count": 79,
   "metadata": {},
   "outputs": [
    {
     "name": "stdout",
     "output_type": "stream",
     "text": [
      "[33966.58469945 30027.93715847 33966.58469945 33966.58469945\n",
      " 33966.58469945 33966.58469945 33966.58469945 33966.58469945\n",
      " 30027.93715847 33966.58469945 33966.58469945 33966.58469945\n",
      " 33966.58469945 30027.93715847 33966.58469945 33966.58469945\n",
      " 33966.58469945 33966.58469945 33966.58469945 37905.23224044\n",
      " 37905.23224044 33966.58469945 30027.93715847 30027.93715847\n",
      " 33966.58469945 33966.58469945 33966.58469945 30027.93715847\n",
      " 30027.93715847 33966.58469945 30027.93715847 33966.58469945\n",
      " 33966.58469945 37905.23224044 37905.23224044 33966.58469945]\n",
      "Mean Squared Error for Linear Regression: 665996115.3193336\n"
     ]
    }
   ],
   "source": [
    "from sklearn.model_selection import train_test_split\n",
    "from sklearn.linear_model import LinearRegression\n",
    "from sklearn.metrics import mean_squared_error\n",
    "import matplotlib.pyplot as plt\n",
    "import seaborn as sns\n",
    "\n",
    "\n",
    "# For regression (predicting 'Income')\n",
    "data = df\n",
    "X_feature = data['Education'].values.reshape(-1,1)\n",
    "y_target = data['Income']\n",
    "\n",
    "# # split into training data and testing data\n",
    "X_train, X_test, y_train, y_test = train_test_split(X_feature, y_target, test_size=0.3, random_state=42)\n",
    "\n",
    "# # Linear regression for predicting 'Income'\n",
    "linear_reg = LinearRegression()\n",
    "linear_reg.fit(X_train, y_train)\n",
    "y_pred = linear_reg.predict(X_test)\n",
    "print(y_pred)\n",
    "\n",
    "# # Model evaluation for regression\n",
    "mse = mean_squared_error(y_test, y_pred)\n",
    "rmse = np.sqrt(mse)\n",
    "print(f\"Mean Squared Error for Linear Regression: {mse}\")\n",
    "\n",
    "\n",
    "# plt.figure(figsize=(12, 8))\n",
    "# sns.heatmap(data.corr(), annot=True, cmap='coolwarm')\n",
    "# plt.title('Correlation Heatmap')\n",
    "# plt.show()"
   ]
  }
 ],
 "metadata": {
  "kernelspec": {
   "display_name": "Python 3",
   "language": "python",
   "name": "python3"
  },
  "language_info": {
   "codemirror_mode": {
    "name": "ipython",
    "version": 3
   },
   "file_extension": ".py",
   "mimetype": "text/x-python",
   "name": "python",
   "nbconvert_exporter": "python",
   "pygments_lexer": "ipython3",
   "version": "3.9.13"
  },
  "orig_nbformat": 4
 },
 "nbformat": 4,
 "nbformat_minor": 2
}
