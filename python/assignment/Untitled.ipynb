{
 "cells": [
  {
   "cell_type": "code",
   "execution_count": 1134,
   "id": "d4d5a11f",
   "metadata": {},
   "outputs": [],
   "source": [
    "from sklearn.model_selection import train_test_split\n",
    "from sklearn.metrics import accuracy_score, precision_score\n",
    "from sklearn.metrics import confusion_matrix, recall_score, f1_score, roc_auc_score,roc_curve\n",
    "from sklearn.model_selection import cross_val_score, KFold\n",
    "from sklearn import tree\n",
    "from sklearn.tree import DecisionTreeClassifier\n",
    "from sklearn.ensemble import RandomForestClassifier\n",
    "\n",
    "import matplotlib.pyplot as plt\n",
    "import seaborn as sns\n",
    "import pandas as pd\n",
    "import numpy as np\n",
    "pd.options.display.max_rows = None\n",
    "pd.options.display.max_columns = None\n",
    "df = pd.read_csv('cleaned_data.csv')"
   ]
  },
  {
   "cell_type": "code",
   "execution_count": 1135,
   "id": "270f5a45",
   "metadata": {},
   "outputs": [],
   "source": [
    "def execute_fit_predict(classifier, X_train, y_train, X_test):\n",
    "    classifier.fit(X_train, y_train)\n",
    "    pred = classifier.predict(X_test)\n",
    "    return pred"
   ]
  },
  {
   "cell_type": "code",
   "execution_count": 1136,
   "id": "bcaef5e5",
   "metadata": {},
   "outputs": [],
   "source": [
    "def execute_evaluate(y_test, pred=None, pred_proba=None):\n",
    "    # get confusion matrix\n",
    "    confusion = confusion_matrix( y_test, pred)\n",
    "    # get accuracy score\n",
    "    accuracy = accuracy_score(y_test , pred)\n",
    "    # get precision\n",
    "    precision = precision_score(y_test , pred)\n",
    "    # get recall\n",
    "    recall = recall_score(y_test , pred)\n",
    "    # get f1 score\n",
    "    f1 = f1_score(y_test,pred)\n",
    "    # get auc score\n",
    "    roc_auc = roc_auc_score(y_test, pred_proba)\n",
    "    \n",
    "    result = {\n",
    "        \"confusion\": confusion,\n",
    "        \"accuracy\": accuracy.round(4),\n",
    "        \"precision\": precision.round(4),\n",
    "        \"recol\": recall.round(4),\n",
    "        \"f1\": f1.round(4),\n",
    "        \"roc_auc\": roc_auc.round(4)\n",
    "    }\n",
    "\n",
    "    return result\n"
   ]
  },
  {
   "cell_type": "code",
   "execution_count": 1137,
   "id": "84b4e5d1",
   "metadata": {},
   "outputs": [],
   "source": [
    "def execute_cross_validation(classifier, X_features, y_targets, folds):\n",
    "    kfold = KFold(n_splits=folds)\n",
    "    scores = []\n",
    "    for i , (train_index, test_index) in enumerate(kfold.split(X_features)):\n",
    "        # Create index pointing to training and validation data by cross-validation from the data\n",
    "        X_train, X_test = X_features.values[train_index], X_features.values[test_index]\n",
    "        y_train, y_test = y_targets.values[train_index], y_targets.values[test_index]\n",
    "        \n",
    "        # train and fit\n",
    "        pred = execute_fit_predict(classifier=classifier, X_train=X_train, y_train=y_train, X_test=X_test)\n",
    "        pred_proba = classifier.predict_proba(X_test)[:,1]\n",
    "        score = execute_evaluate(y_test=y_test, pred=pred, pred_proba=pred_proba)\n",
    "        scores.append({i : score})\n",
    "    return scores\n"
   ]
  },
  {
   "cell_type": "code",
   "execution_count": 1138,
   "id": "63ce08cb",
   "metadata": {},
   "outputs": [],
   "source": [
    "def roc_curve_plot(y_test , pred_proba1, pred_proba2):\n",
    "    fpr1, tpr1, threshold = roc_curve(y_test, pred_proba1)\n",
    "    fpr2, tpr2, threshold = roc_curve(y_test, pred_proba2)\n",
    "\n",
    "    plt.plot(fpr1, tpr1, 'o-', ms=2, label=\"Random Forest\")\n",
    "    plt.plot(fpr2, tpr2, 'o-', ms=2, label=\"Decision Tree\")\n",
    "    plt.plot([0, 1], [0, 1], 'k--')\n",
    "    plt.legend()\n",
    "    plt.title('ROC Curve')\n",
    "    plt.show()"
   ]
  },
  {
   "attachments": {},
   "cell_type": "markdown",
   "id": "41f5b2c7",
   "metadata": {},
   "source": [
    "# Create Train, Test dataset"
   ]
  },
  {
   "cell_type": "code",
   "execution_count": 1139,
   "id": "fc4f8eb2",
   "metadata": {},
   "outputs": [],
   "source": [
    "X_features = df.drop(['Fraud'], axis=1)\n",
    "y_targets = df['Fraud']\n",
    "X_train, X_test, y_train, y_test=train_test_split(X_features, y_targets, test_size=0.3)\n"
   ]
  },
  {
   "attachments": {},
   "cell_type": "markdown",
   "id": "ad39aeb7",
   "metadata": {},
   "source": [
    "# Decision Tree\n",
    "## Without cross validation vs With cross validation"
   ]
  },
  {
   "cell_type": "code",
   "execution_count": 1140,
   "id": "e23824b9",
   "metadata": {},
   "outputs": [
    {
     "name": "stdout",
     "output_type": "stream",
     "text": [
      "With out cross validation\n",
      "{'confusion': array([[22,  3],\n",
      "       [ 1, 10]]), 'accuracy': 0.8889, 'precision': 0.7692, 'recol': 0.9091, 'f1': 0.8333, 'roc_auc': 0.8945}\n"
     ]
    }
   ],
   "source": [
    "decision_tree = DecisionTreeClassifier()\n",
    "pred = execute_fit_predict(classifier=decision_tree, X_train=X_train, y_train=y_train, X_test=X_test)\n",
    "pred_proba = decision_tree.predict_proba(X_test)[:,1]\n",
    "evaluation = execute_evaluate(y_test=y_test,pred=pred,pred_proba=pred_proba)\n",
    "print(\"With out cross validation\")\n",
    "print(evaluation)\n",
    "# print(\"\\n**********************************************************************************************************\\n\")\n",
    "# cross_validation_scores = execute_cross_validation(classifier=decision_tree, X_features=X_features, y_targets=y_targets, folds=10)\n",
    "# print(\"With cross validation top 5\")\n",
    "# print(*cross_validation_scores[0:5], sep='\\n')\n",
    "\n",
    "# cross_val_score_API = cross_val_score(decision_tree, X_features, y_targets, scoring = 'roc_auc', cv=10)\n",
    "# print(cross_val_score_API)\n"
   ]
  },
  {
   "attachments": {},
   "cell_type": "markdown",
   "id": "dfd7375d",
   "metadata": {},
   "source": [
    "# Random Forest\n",
    "## Without cross validation vs With cross validation by 10 folds"
   ]
  },
  {
   "cell_type": "code",
   "execution_count": 1141,
   "id": "fcd4bff6",
   "metadata": {},
   "outputs": [
    {
     "name": "stdout",
     "output_type": "stream",
     "text": [
      "With out cross validation\n",
      "{'confusion': array([[22,  3],\n",
      "       [ 0, 11]]), 'accuracy': 0.9167, 'precision': 0.7857, 'recol': 1.0, 'f1': 0.88, 'roc_auc': 1.0}\n"
     ]
    },
    {
     "data": {
      "text/plain": [
       "<AxesSubplot:>"
      ]
     },
     "execution_count": 1141,
     "metadata": {},
     "output_type": "execute_result"
    },
    {
     "data": {
      "image/png": "[encoded data removed]",
      "text/plain": [
       "<Figure size 640x480 with 2 Axes>"
      ]
     },
     "metadata": {},
     "output_type": "display_data"
    }
   ],
   "source": [
    "random_forest = RandomForestClassifier()\n",
    "pred = execute_fit_predict(classifier=random_forest, X_train=X_train, y_train=y_train, X_test=X_test)\n",
    "pred_proba = random_forest.predict_proba(X_test)[:,1]\n",
    "evaluation = execute_evaluate(y_test=y_test,pred=pred,pred_proba=pred_proba)\n",
    "print(\"With out cross validation\")\n",
    "print(evaluation)\n",
    "sns.heatmap(evaluation['confusion'], annot=True)\n",
    "# print(\"\\n**********************************************************************************************************\\n\")\n",
    "# cross_validation_scores = execute_cross_validation(classifier=random_forest, X_features=X_features, y_targets=y_targets, folds=10)\n",
    "# print(\"With cross validation top 5\")\n",
    "# print(*cross_validation_scores[0:5], sep='\\n')\n",
    "# roc_curve_plot(y_test=y_test, pred_proba1=random_forest.predict_proba(X_test)[:,1], pred_proba2=decision_tree.predict_proba(X_test)[:,1])\n",
    "\n"
   ]
  },
  {
   "cell_type": "code",
   "execution_count": null,
   "id": "b0bbebcb",
   "metadata": {},
   "outputs": [],
   "source": []
  }
 ],
 "metadata": {
  "kernelspec": {
   "display_name": "Python 3 (ipykernel)",
   "language": "python",
   "name": "python3"
  },
  "language_info": {
   "codemirror_mode": {
    "name": "ipython",
    "version": 3
   },
   "file_extension": ".py",
   "mimetype": "text/x-python",
   "name": "python",
   "nbconvert_exporter": "python",
   "pygments_lexer": "ipython3",
   "version": "3.9.13"
  }
 },
 "nbformat": 4,
 "nbformat_minor": 5
}
