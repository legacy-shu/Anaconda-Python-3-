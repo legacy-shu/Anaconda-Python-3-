{
 "cells": [
  {
   "cell_type": "code",
   "execution_count": 21,
   "metadata": {},
   "outputs": [
    {
     "name": "stdout",
     "output_type": "stream",
     "text": [
      "[[1]\n",
      " [5]\n",
      " [3]\n",
      " [2]\n",
      " [5]\n",
      " [3]\n",
      " [2]\n",
      " [3]] [[ 48700]\n",
      " [255500]\n",
      " [148250]\n",
      " [102250]\n",
      " [245000]\n",
      " [152400]\n",
      " [102050]\n",
      " [149900]]\n",
      "[[1]\n",
      " [2]] [[51500]\n",
      " [97750]]\n",
      "bias =  [656.25]\n",
      "weight =  [[49950.]]\n",
      "[[250406.25]]\n",
      "               0\n",
      "51500   50606.25\n",
      "97750  100556.25\n",
      "MAE =  1850.0\n",
      "MSE =  4336914.0625\n"
     ]
    }
   ],
   "source": [
    "from sklearn.linear_model import LinearRegression\n",
    "from sklearn.model_selection import train_test_split\n",
    "\n",
    "import pandas as pd\n",
    "import numpy as np\n",
    "import matplotlib.pyplot as plt\n",
    "\n",
    "df = pd.read_csv('housebed.csv')\n",
    "\n",
    "x = df['Number of Bedrooms'].values.reshape(-1,1)\n",
    "y = df['House Price'].values.reshape(-1,1)\n",
    "\n",
    "X_train, X_test, y_train, y_test = train_test_split(x, y, test_size = 0.2)\n",
    "\n",
    "print(X_train, y_train)\n",
    "print(X_test, y_test)\n",
    "regressor = LinearRegression()\n",
    "regressor.fit(X_train, y_train)\n",
    "#This is the bias value if we look at y=wx+b\n",
    "print(\"bias = \", regressor.intercept_)\n",
    "#This is the weight value\n",
    "print(\"weight = \", regressor.coef_)\n",
    "\n",
    "\n",
    "#So the equation of the line becomes:\n",
    "#House Price = (48841 * Number of Bedrooms) + 2490\n",
    "#Using the predict function we can test if it works\n",
    "price = regressor.predict([[5]])\n",
    "print(price)\n",
    "\n",
    "#Test prediction using test data, by comparing to actual data\n",
    "y_pred = regressor.predict(X_test)\n",
    "df_preds = pd.DataFrame(y_pred.squeeze(), y_test.squeeze(), )\n",
    "print(df_preds)\n",
    "\n",
    "#Evaluate model use sklearn metrics\n",
    "from sklearn.metrics import mean_absolute_error, mean_squared_error\n",
    "#print(X_test)\n",
    "#print(y_test)\n",
    "mae = mean_absolute_error(y_test, y_pred)\n",
    "mse = mean_squared_error(y_test, y_pred)\n",
    "\n",
    "\n",
    "#Answers are different to PowerPoint as only test data used to calclate MAE and MSE\n",
    "print('MAE = ', mae)\n",
    "print('MSE = ', mse)\n"
   ]
  }
 ],
 "metadata": {
  "kernelspec": {
   "display_name": "Python 3",
   "language": "python",
   "name": "python3"
  },
  "language_info": {
   "codemirror_mode": {
    "name": "ipython",
    "version": 3
   },
   "file_extension": ".py",
   "mimetype": "text/x-python",
   "name": "python",
   "nbconvert_exporter": "python",
   "pygments_lexer": "ipython3",
   "version": "3.9.13"
  },
  "orig_nbformat": 4,
  "vscode": {
   "interpreter": {
    "hash": "d4d1e4263499bec80672ea0156c357c1ee493ec2b1c70f0acce89fc37c4a6abe"
   }
  }
 },
 "nbformat": 4,
 "nbformat_minor": 2
}
