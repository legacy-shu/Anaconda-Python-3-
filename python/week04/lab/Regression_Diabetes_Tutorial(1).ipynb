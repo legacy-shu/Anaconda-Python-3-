{
 "cells": [
  {
   "cell_type": "code",
   "execution_count": null,
   "metadata": {
    "id": "2UgdHCUO4GaC"
   },
   "outputs": [],
   "source": [
    "# Week 4: Regression - Diabetes Prediction \n",
    "\n",
    "# Regression, is one of the most important areas of machine learning.\n",
    "# This week, you will use the diabetes dataset for practising. \n",
    "\n"
   ]
  },
  {
   "cell_type": "markdown",
   "metadata": {
    "id": "PrXApmKq4u59"
   },
   "source": [
    "## 1. Load the dataset\n",
    "\n",
    "The \"Diabetes\" Dataset is one of the \"Toy\" Datasets from the __Scikit-learn__ Library. \n",
    "\n",
    "This Dataset has ten baseline variables, age, sex, body mass index, average blood pressure, and six blood serum measurements, for each of the \n",
    "diabetic patients as well as the response of interest, a quantitative measure of disease progression one year after baseline.\n",
    "\n",
    "__Data Set Characteristics:__\n",
    "*   Number of Instances: 442\n",
    "*   Number of Attributes (features): 10\n",
    "*   Target: A quantitative measure of disease progression one year after baseline\n",
    "\n",
    "You can load the dataset by using the following commands.\n",
    "Please be aware that you need to use the lastest version of __Scikit-learn__ for this task\n",
    "\n",
    "\n",
    "> __Scikit-learn__ has many toy datasets. You can check this [Doc](https://scikit-learn.org/stable/datasets/toy_dataset.html) for more details.\n",
    "\n",
    "\n"
   ]
  },
  {
   "cell_type": "code",
   "execution_count": 1,
   "metadata": {
    "colab": {
     "base_uri": "https://localhost:8080/"
    },
    "id": "sKBLs63P3Y4c",
    "outputId": "464c6432-f9ca-40b6-8a17-32be2576d2a0"
   },
   "outputs": [],
   "source": [
    "import pandas as pd\n",
    "from sklearn.datasets import load_diabetes\n",
    "diabetes_features, diabetes_target= load_diabetes(return_X_y=True,as_frame=True)\n",
    "diabetes_all = diabetes_features.assign(y=diabetes_target)"
   ]
  },
  {
   "cell_type": "markdown",
   "metadata": {
    "id": "gEgZi-g7m_Ca"
   },
   "source": [
    "### To-Do\n",
    "\n",
    "*   Display the samples, check the data (feature and target) type, name of features, and their values\n",
    "*   Use visualisaition tools such as the scatter plot, histogram and box plot to evaluate the quality of the data \n",
    "\n"
   ]
  },
  {
   "cell_type": "code",
   "execution_count": 4,
   "metadata": {
    "id": "kFapf_SjjsEP"
   },
   "outputs": [
    {
     "data": {
      "text/plain": [
       "0      151.0\n",
       "1       75.0\n",
       "2      141.0\n",
       "3      206.0\n",
       "4      135.0\n",
       "       ...  \n",
       "437    178.0\n",
       "438    104.0\n",
       "439    132.0\n",
       "440    220.0\n",
       "441     57.0\n",
       "Name: target, Length: 442, dtype: float64"
      ]
     },
     "execution_count": 4,
     "metadata": {},
     "output_type": "execute_result"
    }
   ],
   "source": []
  },
  {
   "cell_type": "markdown",
   "metadata": {
    "id": "JD-yBsuE_DtY"
   },
   "source": [
    "## 2. Feature Analysis\n",
    "\n",
    "To-do\n",
    "\n",
    "\n",
    "*   Use the scatter matrix and the correlation matrix, to check the pair-to-pair correlation coefficient between each feature\n",
    "*   Use the scatter matrix to study the correlation coefficient between each feature and the target\n",
    "\n"
   ]
  },
  {
   "cell_type": "code",
   "execution_count": 1,
   "metadata": {
    "id": "ablt1QskA24T"
   },
   "outputs": [],
   "source": []
  },
  {
   "cell_type": "markdown",
   "metadata": {
    "id": "pkO_Tk2ZC8yS"
   },
   "source": [
    "## 3. Linear Regression\n",
    "\n",
    "### 3.1 Prepare the data for training and testing\n",
    "You can use `train_test_split` from the __Scikit-learn__ library. The function is a sub-class of `model_selection`.  Please see [Doc](https://scikit-learn.org/stable/modules/generated/sklearn.model_selection.train_test_split.html) for more details \n",
    "\n",
    "#### To-Do\n",
    "\n",
    "*   Split the dataset for training and testing.\n",
    "\n",
    "\n",
    "\n",
    "\n"
   ]
  },
  {
   "cell_type": "code",
   "execution_count": 2,
   "metadata": {
    "id": "18hxOtRNEZmk"
   },
   "outputs": [],
   "source": [
    "from sklearn.model_selection import train_test_split\n",
    "# Your code goes here\n"
   ]
  },
  {
   "cell_type": "markdown",
   "metadata": {
    "id": "jOrhuBO6FLr6"
   },
   "source": [
    "### 3.2 Create the Regression Machine Learning task\n",
    "You need to use `LinearRegression` from the __Scikit-learn__ library. The function is a sub-class of `linear_model`.  Please see [Doc](https://scikit-learn.org/stable/modules/generated/sklearn.linear_model.LinearRegression.html) for more details. \n",
    "\n",
    "> Usually you do not need to change any default settings for Linear Regression tasks. \n",
    "\n",
    "#### To-Do\n",
    "\n",
    "\n",
    "*   Create the Linear Regression model. \n",
    "*   Train the model using the training sets. You may want to check how to use the `fit` function from this [Doc](https://scikit-learn.org/stable/auto_examples/linear_model/plot_ols.html)\n",
    "\n",
    "\n",
    "\n"
   ]
  },
  {
   "cell_type": "code",
   "execution_count": 2,
   "metadata": {
    "id": "ScmDlLo2HmwJ"
   },
   "outputs": [],
   "source": []
  },
  {
   "cell_type": "code",
   "execution_count": null,
   "metadata": {
    "id": "jMYMgm_ZHyZq"
   },
   "outputs": [],
   "source": [
    "### 3.3 Check the accuracy of the model \n",
    "\n",
    "We can use some of the previously taught tools to evaluate the accuracy of this prediction.\n",
    "For example, you can use the test set to measure errors, and draw a box plot about the errors and study how skewed it is. \n",
    "\n"
   ]
  },
  {
   "cell_type": "code",
   "execution_count": 2,
   "metadata": {
    "id": "4qiuaKpvH8ae"
   },
   "outputs": [],
   "source": []
  }
 ],
 "metadata": {
  "colab": {
   "name": "Regression_Diabetes_Tutorial_Lab.ipynb",
   "provenance": []
  },
  "kernelspec": {
   "display_name": "Python 3 (ipykernel)",
   "language": "python",
   "name": "python3"
  },
  "language_info": {
   "codemirror_mode": {
    "name": "ipython",
    "version": 3
   },
   "file_extension": ".py",
   "mimetype": "text/x-python",
   "name": "python",
   "nbconvert_exporter": "python",
   "pygments_lexer": "ipython3",
   "version": "3.9.12"
  }
 },
 "nbformat": 4,
 "nbformat_minor": 1
}
