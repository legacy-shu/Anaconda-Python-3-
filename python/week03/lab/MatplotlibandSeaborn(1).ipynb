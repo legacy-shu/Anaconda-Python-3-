{
 "cells": [
  {
   "cell_type": "markdown",
   "metadata": {
    "id": "CSOcmJHTMhHL"
   },
   "source": [
    "# MLAH Week 3 Lab - Data Visualisation with Matplotlib and Seaborn\n",
    "\n",
    "__Matplotlib__ is a desktop plotting package designed for creating (mostly two- dimensional) publication-quality plots. __Matplotlib__ supports various GUI backends on all operating systems and additionally can export visualisations to all of the common vector and raster graphics formats (PDF, SVG, JPG, PNG, BMP, GIF, etc.). \n",
    "\n",
    "Over time, __Matplotlib__ has spawned a number of add-on toolkits for data visualization that use matplotlib for their underlying plotting. One of these is __Seaborn__, which we will explore later."
   ]
  },
  {
   "cell_type": "markdown",
   "metadata": {
    "id": "r3FyR1FyMdu0"
   },
   "source": [
    "<hr>"
   ]
  },
  {
   "cell_type": "markdown",
   "metadata": {
    "id": "ujo6epJcPF_1"
   },
   "source": [
    "## 1. Matplotlib API\n",
    "\n",
    "With __Matplotlib__, we use the following import convention:\n",
    "\n"
   ]
  },
  {
   "cell_type": "code",
   "execution_count": null,
   "metadata": {
    "id": "7tGNUeHvPe7l"
   },
   "outputs": [],
   "source": [
    "import matplotlib.pyplot as plt"
   ]
  },
  {
   "cell_type": "markdown",
   "metadata": {
    "id": "B1cFtECXMdu1"
   },
   "source": [
    "This imports the main module in package `matplotlib`. Note that `pandas` has inherited the `matplotlib` classes, so `DataFrame` or `Series` are all compatible with matplotlib functions. You can use `pandas` visualisation to be your __high-level__ tool and use `matplotlib` to control __low-level__ visual effects."
   ]
  },
  {
   "cell_type": "markdown",
   "metadata": {
    "id": "K2zP9NqiPq-T"
   },
   "source": [
    "First we generate sample data"
   ]
  },
  {
   "cell_type": "code",
   "execution_count": null,
   "metadata": {
    "ExecuteTime": {
     "end_time": "2018-01-28T18:52:00.129863Z",
     "start_time": "2018-01-28T18:52:00.114814Z"
    },
    "colab": {
     "base_uri": "https://localhost:8080/"
    },
    "id": "3KDZXy5qMdu3",
    "outputId": "34b230eb-eb2c-493a-cc56-1e9aedf29566"
   },
   "outputs": [],
   "source": [
    "import numpy as np #we use numpy function to generate some dummy data here \n",
    "X_arr = np.arange(10)\n",
    "Y_arr = 3*X_arr + 2 + np.random.random(size=X_arr.size) # linear with some noise\n",
    "print(X_arr)\n",
    "print(Y_arr)"
   ]
  },
  {
   "cell_type": "markdown",
   "metadata": {
    "id": "Y1E6A6o6Mdu2"
   },
   "source": [
    "<hr>"
   ]
  },
  {
   "cell_type": "markdown",
   "metadata": {
    "id": "Pjr5k9qVMdu3"
   },
   "source": [
    "Visualisation is one of the most important things of data analysis. Besides just producing ___readable___ plots, we should make an effort to improve the overall attractiveness of the plots. `Matplotlib` is a powerful package for ___Python___ users. Let us start with an example."
   ]
  },
  {
   "cell_type": "markdown",
   "metadata": {
    "id": "IiIxlXlPMdu3"
   },
   "source": [
    "* To plot a simple scatter plot, we can use the `plt.scatter(x,y)` function. Please check the [Doc](https://matplotlib.org/stable/api/_as_gen/matplotlib.pyplot.scatter.html) for further details"
   ]
  },
  {
   "cell_type": "code",
   "execution_count": null,
   "metadata": {
    "ExecuteTime": {
     "end_time": "2018-01-28T18:52:01.719648Z",
     "start_time": "2018-01-28T18:52:01.480937Z"
    },
    "id": "tLnTBVVsMdu4"
   },
   "outputs": [],
   "source": []
  },
  {
   "cell_type": "markdown",
   "metadata": {
    "id": "t2TZbbZWMdu4"
   },
   "source": [
    "However, this is too simple - we do not even have X or Y axis labels. Further we may want to change the scatter markers. To improve the scatter plot we could:\n",
    "\n",
    "*   Add X and Y labels to the axis. See [Doc](https://matplotlib.org/stable/api/_as_gen/matplotlib.pyplot.xlabel.html) for more details\n",
    "*   Change the scatter markers style and colour. Check `plt.scatter(x,y)`[Doc](https://matplotlib.org/stable/api/_as_gen/matplotlib.pyplot.scatter.html). and use `marker=`, `c=` options.\n",
    "*   Add a title to the plot. See [Doc](https://matplotlib.org/stable/api/_as_gen/matplotlib.pyplot.title.html) for more details\n",
    "\n",
    "\n",
    "\n",
    "\n",
    "\n"
   ]
  },
  {
   "cell_type": "code",
   "execution_count": null,
   "metadata": {
    "ExecuteTime": {
     "end_time": "2018-01-28T18:52:03.125922Z",
     "start_time": "2018-01-28T18:52:02.667513Z"
    },
    "id": "EfEysAiqMdu4"
   },
   "outputs": [],
   "source": []
  },
  {
   "cell_type": "markdown",
   "metadata": {
    "id": "P6UkVAyBMdu4"
   },
   "source": [
    "We can also do something similar through pandas, using a pandas DataFrame"
   ]
  },
  {
   "cell_type": "code",
   "execution_count": null,
   "metadata": {
    "id": "zIgSoQtQMdu5"
   },
   "outputs": [],
   "source": [
    "import pandas as pd\n",
    "data = pd.DataFrame({'X Value': X_arr, 'Y Value': Y_arr})"
   ]
  },
  {
   "cell_type": "markdown",
   "metadata": {
    "id": "uThyrOhcMdu5"
   },
   "source": [
    "And then, we can simply call the scatter plot function through pandas, notice that the axis label is automatically added based on the column index\n",
    "\n",
    "Actually, a lot of similar automation can be done through pandas, check the [link](https://pandas.pydata.org/pandas-docs/stable/user_guide/visualization.html) to get the impression on what pandas visualision functions can/cannot do.\n"
   ]
  },
  {
   "cell_type": "code",
   "execution_count": null,
   "metadata": {
    "id": "smBqbB4fMdu5"
   },
   "outputs": [],
   "source": []
  },
  {
   "cell_type": "markdown",
   "metadata": {
    "id": "clRgStM2Mdu6"
   },
   "source": [
    "We can always mix the `pandas` plots with `matplotlib` functions through its low level functions. you can create matplotlib `Figure` object and use its methods. For example, change the font size of the axis or save the graph as a png file\n",
    "\n",
    "*   use myfig `Figure` object to add x and y lables through `Figure.setxlabel()` and `Figure.setylabel()` [Doc](https://matplotlib.org/stable/api/_as_gen/matplotlib.axes.Axes.set_ylabel.html)\n",
    "* save current figure by using `plt.savefig('file_path')`\n",
    "\n"
   ]
  },
  {
   "cell_type": "code",
   "execution_count": null,
   "metadata": {
    "colab": {
     "base_uri": "https://localhost:8080/",
     "height": 295
    },
    "id": "YgxFMPrpMdu6",
    "outputId": "0bdc1007-ca71-4001-b779-f4f18615d0cd"
   },
   "outputs": [],
   "source": [
    "myfig = data.plot.scatter('X Value', 'Y Value',marker='+', c='g',s=Y_arr*10, title='My Plot')#This is pandas function"
   ]
  },
  {
   "cell_type": "markdown",
   "metadata": {
    "id": "hqMjKCViMdu7"
   },
   "source": [
    "__Anatomy of a Figure__"
   ]
  },
  {
   "cell_type": "markdown",
   "metadata": {
    "id": "O6OjI_YoMdu7"
   },
   "source": [
    "Let us also take a look at the structure of a figure in `matplotlib`:\n",
    "\n",
    "<img width=700 src=\"https://matplotlib.org/_images/anatomy1.png\">"
   ]
  },
  {
   "cell_type": "markdown",
   "metadata": {
    "id": "5c3cIasaMdu7"
   },
   "source": [
    "---"
   ]
  },
  {
   "cell_type": "markdown",
   "metadata": {
    "id": "yePdiHWYMdu7"
   },
   "source": [
    "## 2. Matplotlib Coding style (Live Demo)"
   ]
  },
  {
   "cell_type": "code",
   "execution_count": null,
   "metadata": {
    "ExecuteTime": {
     "end_time": "2018-01-28T18:52:31.602659Z",
     "start_time": "2018-01-28T18:52:30.002316Z"
    },
    "colab": {
     "base_uri": "https://localhost:8080/",
     "height": 337
    },
    "id": "tygHSxteMdu7",
    "outputId": "7f5efbf6-6fb1-486d-e8bb-7d9c0c6c3c4f"
   },
   "outputs": [],
   "source": [
    "# `plt.subplots()` returns a figure object (which is the whole plot as shown above or wrap of several subplots)\n",
    "# and `axes` that control specific plots in the figure.\n",
    "# Here our \"subplots\" layout is by default 1 row and 1 col and therefore 1 plot\n",
    "fig, ax = plt.subplots()\n",
    "# Setting figure size\n",
    "fig.set_figwidth(6)\n",
    "fig.set_figheight(5)\n",
    "# plot should be done on the `axis`: ax\n",
    "ax.plot(X_arr, Y_arr)"
   ]
  },
  {
   "cell_type": "markdown",
   "metadata": {
    "id": "IHgyp4oHMdu8"
   },
   "source": [
    "Applying what we did earlier:"
   ]
  },
  {
   "cell_type": "code",
   "execution_count": null,
   "metadata": {
    "ExecuteTime": {
     "end_time": "2018-01-28T18:52:32.072684Z",
     "start_time": "2018-01-28T18:52:31.609378Z"
    },
    "colab": {
     "base_uri": "https://localhost:8080/",
     "height": 367
    },
    "id": "12-nrNZWMdu8",
    "outputId": "dc199f94-6e0e-4ee5-becc-e499f0e7c77e"
   },
   "outputs": [],
   "source": [
    "fig, ax = plt.subplots()\n",
    "fig.set_figwidth(6)\n",
    "fig.set_figheight(5)\n",
    "# What we just did, applying to `ax`\n",
    "ax.scatter(X_arr, Y_arr, marker='+', c='g', s=Y_arr*10)\n",
    "ax.plot(X_arr, Y_arr, linestyle='dashed', color='k')\n",
    "ax.set_xlabel('My X Axis')\n",
    "ax.set_ylabel('My Y Axis')\n",
    "ax.set_title('My Plot')"
   ]
  },
  {
   "cell_type": "markdown",
   "metadata": {
    "id": "6NCoaRUFMdu9"
   },
   "source": [
    "---"
   ]
  },
  {
   "cell_type": "markdown",
   "metadata": {
    "id": "8Zdrrb8yMdu9"
   },
   "source": [
    "## 3. Histogram"
   ]
  },
  {
   "cell_type": "markdown",
   "metadata": {
    "id": "ocU33wn7Mdu_"
   },
   "source": [
    "Let us use a Gaussian distribution for illustration\n",
    "\n",
    "1.   List item\n",
    "2.   List item\n",
    "\n"
   ]
  },
  {
   "cell_type": "code",
   "execution_count": null,
   "metadata": {
    "ExecuteTime": {
     "end_time": "2018-01-28T18:52:36.613867Z",
     "start_time": "2018-01-28T18:52:36.600420Z"
    },
    "colab": {
     "base_uri": "https://localhost:8080/"
    },
    "id": "d0rg6pfgMdu_",
    "outputId": "287af88d-3441-449f-abfb-9a8c21eee082"
   },
   "outputs": [],
   "source": [
    "mu, sigma = 15, 1\n",
    "gaussian_arr = np.random.normal(mu, sigma, size=10000)\n",
    "np.mean(gaussian_arr), np.std(gaussian_arr, ddof=1)"
   ]
  },
  {
   "cell_type": "markdown",
   "metadata": {
    "id": "s5_RRSkbnZfL"
   },
   "source": [
    "\n",
    "\n",
    "*   Check the `hist()` function from [Doc](https://matplotlib.org/stable/api/_as_gen/matplotlib.pyplot.hist.html)\n",
    "\n",
    "*   Draw a basic histgram for the data from `gaussian_arr`\n",
    "*   Use the recommended coding style mentioned above \n"
   ]
  },
  {
   "cell_type": "code",
   "execution_count": null,
   "metadata": {
    "ExecuteTime": {
     "end_time": "2018-01-28T18:52:37.321621Z",
     "start_time": "2018-01-28T18:52:36.964449Z"
    },
    "id": "iM_oAWVyMdvA"
   },
   "outputs": [],
   "source": []
  },
  {
   "cell_type": "markdown",
   "metadata": {
    "id": "iNfr7QRTMdvA"
   },
   "source": [
    "We cancustomise to make it prettier, such as\n",
    "\n",
    "\n",
    "\n",
    "*   Change the number of `bins`\n",
    "*   Change `facecolour`\n",
    "*   Change `alpha` so the colour block looks transparent \n",
    "*   Add grid to the plot by using 'grid()' (This is a Figure object method. You can use the recommended coding style such as `ax.grid()`)\n",
    "\n",
    "\n"
   ]
  },
  {
   "cell_type": "code",
   "execution_count": null,
   "metadata": {
    "ExecuteTime": {
     "end_time": "2018-01-28T18:52:38.273234Z",
     "start_time": "2018-01-28T18:52:37.827321Z"
    },
    "id": "15kwWWv8MdvA"
   },
   "outputs": [],
   "source": []
  },
  {
   "cell_type": "markdown",
   "metadata": {
    "id": "y6Z1WokjMdvA"
   },
   "source": [
    "## 4. Boxplot"
   ]
  },
  {
   "cell_type": "markdown",
   "metadata": {
    "ExecuteTime": {
     "end_time": "2018-01-28T18:17:05.788237Z",
     "start_time": "2018-01-28T18:17:05.776588Z"
    },
    "id": "_Bce6jn7MdvB"
   },
   "source": [
    "With the gaussian data, we can use a box plot, to show all the static features of the data (i.e. mean, min, max, medians...)"
   ]
  },
  {
   "cell_type": "markdown",
   "metadata": {
    "id": "fIZPTYCjMdvB"
   },
   "source": [
    "<img width=700 src=\"https://miro.medium.com/max/1400/1*2c21SkzJMf3frPXPAR_gZA.png\">"
   ]
  },
  {
   "cell_type": "markdown",
   "metadata": {
    "id": "4S7u-624pT58"
   },
   "source": [
    "\n",
    "\n",
    "*   Check the boxplot() function from [Doc](https://matplotlib.org/stable/api/_as_gen/matplotlib.pyplot.boxplot.html)\n",
    "*   Draw a box plot for the data from `gaussian_arr`\n",
    "*   Use option inputs to draw the graph without outliers \n",
    "*   Use option inputs to show the mean value\n",
    "*   Use the recommanded coding style mentioned above\n",
    "\n",
    "\n",
    "\n"
   ]
  },
  {
   "cell_type": "code",
   "execution_count": null,
   "metadata": {
    "ExecuteTime": {
     "end_time": "2018-01-28T18:52:41.292074Z",
     "start_time": "2018-01-28T18:52:40.902371Z"
    },
    "id": "yZWPex0GMdvB"
   },
   "outputs": [],
   "source": []
  },
  {
   "cell_type": "markdown",
   "metadata": {
    "id": "OOmtihqsMdvD"
   },
   "source": [
    "## 5. Group these plots together - Subplots\n",
    "\n",
    "Using graph objects is especially useful when handling multiple plots in one figure. Let us use an example of 4 plots: 2x2 layout"
   ]
  },
  {
   "cell_type": "code",
   "execution_count": null,
   "metadata": {
    "ExecuteTime": {
     "end_time": "2018-01-28T18:52:33.871634Z",
     "start_time": "2018-01-28T18:52:32.984934Z"
    },
    "colab": {
     "base_uri": "https://localhost:8080/",
     "height": 286
    },
    "id": "V2Ut_PhsMdu8",
    "outputId": "4a279f45-b5e5-4976-97a7-c1abeb2696f6"
   },
   "outputs": [],
   "source": [
    "# Now the returned `ax` would be array with a shape a 2x2\n",
    "fig, ax_arr = plt.subplots(nrows=2, ncols=2)\n",
    "ax_arr.shape"
   ]
  },
  {
   "cell_type": "markdown",
   "metadata": {
    "id": "s2yXtMd9Mdu9"
   },
   "source": [
    "We can plot in each of them by adding `plot` to each of the `axes`."
   ]
  },
  {
   "cell_type": "code",
   "execution_count": null,
   "metadata": {
    "ExecuteTime": {
     "end_time": "2018-01-28T18:52:46.683295Z",
     "start_time": "2018-01-28T18:52:45.521346Z"
    },
    "id": "NzaiDns8MdvD"
   },
   "outputs": [],
   "source": []
  },
  {
   "cell_type": "markdown",
   "metadata": {
    "id": "JpQwiW5BrjNA"
   },
   "source": [
    "We can also use a `for` loop when ploting mutiple small graphs (in reality we should plot different things in different subplots)."
   ]
  },
  {
   "cell_type": "code",
   "execution_count": null,
   "metadata": {
    "ExecuteTime": {
     "end_time": "2018-01-28T18:52:34.990482Z",
     "start_time": "2018-01-28T18:52:34.001898Z"
    },
    "id": "lHcmTZGaMdu9"
   },
   "outputs": [],
   "source": []
  },
  {
   "cell_type": "markdown",
   "metadata": {
    "id": "ayIlmDCmyXE0"
   },
   "source": [
    "## 6. Use Seaborn to analyse the Sheffield House Price Dataset Features\n",
    "\n",
    "__Matplotlib__ can be a fairly low-level tool. You assemble a plot from its base components: the data display (i.e., the type of plot: line, bar, box, scatter, contour, etc.), legend, title, tick labels, and other annotations.\n",
    "\n",
    "In pandas we may have multiple columns of data, along with row and column labels. Pandas itself has built-in methods that simplify creating visualisations from `DataFrame` and `Series` objects. Another library is __seaborn__, a statistical graphics library created by Michael Waskom. Seaborn simplifies creating many common visualisation types.\n",
    "\n",
    "In this task, you are required to:\n",
    "*   Load a cleaned Sheffield House Price Dataset\n",
    "*   Have a pair-to-pair evaluation between different features (i.e. bedrooms, types, postcode and size). Are they highly correlated?\n",
    "*   Generate scatter plots for each feature against “Price”. Check if they are correlated.\n",
    "\n",
    "\n",
    "\n"
   ]
  },
  {
   "cell_type": "code",
   "execution_count": null,
   "metadata": {
    "id": "utsa5XiR0jXZ"
   },
   "outputs": [],
   "source": [
    "#Add your code here"
   ]
  }
 ],
 "metadata": {
  "colab": {
   "name": "Visualisation-with-Matplotlib.ipynb",
   "provenance": []
  },
  "kernelspec": {
   "display_name": "Python 3",
   "language": "python",
   "name": "python3"
  },
  "language_info": {
   "codemirror_mode": {
    "name": "ipython",
    "version": 3
   },
   "file_extension": ".py",
   "mimetype": "text/x-python",
   "name": "python",
   "nbconvert_exporter": "python",
   "pygments_lexer": "ipython3",
   "version": "3.9.13"
  },
  "toc": {
   "nav_menu": {},
   "number_sections": true,
   "sideBar": true,
   "skip_h1_title": false,
   "toc_cell": false,
   "toc_position": {
    "height": "888px",
    "left": "0px",
    "right": "1583px",
    "top": "92px",
    "width": "337px"
   },
   "toc_section_display": "block",
   "toc_window_display": true
  },
  "varInspector": {
   "cols": {
    "lenName": 16,
    "lenType": 16,
    "lenVar": 40
   },
   "kernels_config": {
    "python": {
     "delete_cmd_postfix": "",
     "delete_cmd_prefix": "del ",
     "library": "var_list.py",
     "varRefreshCmd": "print(var_dic_list())"
    },
    "r": {
     "delete_cmd_postfix": ") ",
     "delete_cmd_prefix": "rm(",
     "library": "var_list.r",
     "varRefreshCmd": "cat(var_dic_list()) "
    }
   },
   "types_to_exclude": [
    "module",
    "function",
    "builtin_function_or_method",
    "instance",
    "_Feature"
   ],
   "window_display": false
  },
  "vscode": {
   "interpreter": {
    "hash": "d4d1e4263499bec80672ea0156c357c1ee493ec2b1c70f0acce89fc37c4a6abe"
   }
  }
 },
 "nbformat": 4,
 "nbformat_minor": 1
}
