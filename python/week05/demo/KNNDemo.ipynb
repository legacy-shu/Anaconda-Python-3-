{
 "cells": [
  {
   "cell_type": "code",
   "execution_count": 1,
   "id": "1c4cf160",
   "metadata": {},
   "outputs": [
    {
     "data": {
      "text/html": [
       "<div>\n",
       "<style scoped>\n",
       "    .dataframe tbody tr th:only-of-type {\n",
       "        vertical-align: middle;\n",
       "    }\n",
       "\n",
       "    .dataframe tbody tr th {\n",
       "        vertical-align: top;\n",
       "    }\n",
       "\n",
       "    .dataframe thead th {\n",
       "        text-align: right;\n",
       "    }\n",
       "</style>\n",
       "<table border=\"1\" class=\"dataframe\">\n",
       "  <thead>\n",
       "    <tr style=\"text-align: right;\">\n",
       "      <th></th>\n",
       "      <th>Colour</th>\n",
       "      <th>Texture</th>\n",
       "      <th>Weight</th>\n",
       "      <th>Diameter</th>\n",
       "      <th>Fruit</th>\n",
       "    </tr>\n",
       "  </thead>\n",
       "  <tbody>\n",
       "    <tr>\n",
       "      <th>0</th>\n",
       "      <td>red</td>\n",
       "      <td>1.00</td>\n",
       "      <td>120</td>\n",
       "      <td>5.0</td>\n",
       "      <td>apple</td>\n",
       "    </tr>\n",
       "    <tr>\n",
       "      <th>1</th>\n",
       "      <td>orange</td>\n",
       "      <td>0.80</td>\n",
       "      <td>98</td>\n",
       "      <td>4.0</td>\n",
       "      <td>clementine</td>\n",
       "    </tr>\n",
       "    <tr>\n",
       "      <th>2</th>\n",
       "      <td>green</td>\n",
       "      <td>0.85</td>\n",
       "      <td>235</td>\n",
       "      <td>8.2</td>\n",
       "      <td>apple</td>\n",
       "    </tr>\n",
       "    <tr>\n",
       "      <th>3</th>\n",
       "      <td>orange</td>\n",
       "      <td>0.90</td>\n",
       "      <td>105</td>\n",
       "      <td>5.2</td>\n",
       "      <td>clementine</td>\n",
       "    </tr>\n",
       "    <tr>\n",
       "      <th>4</th>\n",
       "      <td>orange</td>\n",
       "      <td>0.60</td>\n",
       "      <td>125</td>\n",
       "      <td>6.4</td>\n",
       "      <td>clementine</td>\n",
       "    </tr>\n",
       "    <tr>\n",
       "      <th>5</th>\n",
       "      <td>green</td>\n",
       "      <td>0.15</td>\n",
       "      <td>165</td>\n",
       "      <td>9.1</td>\n",
       "      <td>apple</td>\n",
       "    </tr>\n",
       "    <tr>\n",
       "      <th>6</th>\n",
       "      <td>red</td>\n",
       "      <td>0.00</td>\n",
       "      <td>187</td>\n",
       "      <td>11.1</td>\n",
       "      <td>apple</td>\n",
       "    </tr>\n",
       "    <tr>\n",
       "      <th>7</th>\n",
       "      <td>orange</td>\n",
       "      <td>1.00</td>\n",
       "      <td>103</td>\n",
       "      <td>5.7</td>\n",
       "      <td>clementine</td>\n",
       "    </tr>\n",
       "    <tr>\n",
       "      <th>8</th>\n",
       "      <td>red</td>\n",
       "      <td>0.40</td>\n",
       "      <td>196</td>\n",
       "      <td>9.6</td>\n",
       "      <td>apple</td>\n",
       "    </tr>\n",
       "    <tr>\n",
       "      <th>9</th>\n",
       "      <td>orange</td>\n",
       "      <td>0.35</td>\n",
       "      <td>112</td>\n",
       "      <td>4.4</td>\n",
       "      <td>clementine</td>\n",
       "    </tr>\n",
       "    <tr>\n",
       "      <th>10</th>\n",
       "      <td>orange</td>\n",
       "      <td>0.55</td>\n",
       "      <td>96</td>\n",
       "      <td>6.1</td>\n",
       "      <td>clementine</td>\n",
       "    </tr>\n",
       "    <tr>\n",
       "      <th>11</th>\n",
       "      <td>red</td>\n",
       "      <td>0.20</td>\n",
       "      <td>215</td>\n",
       "      <td>8.3</td>\n",
       "      <td>apple</td>\n",
       "    </tr>\n",
       "    <tr>\n",
       "      <th>12</th>\n",
       "      <td>red</td>\n",
       "      <td>0.35</td>\n",
       "      <td>223</td>\n",
       "      <td>10.0</td>\n",
       "      <td>apple</td>\n",
       "    </tr>\n",
       "    <tr>\n",
       "      <th>13</th>\n",
       "      <td>green</td>\n",
       "      <td>0.10</td>\n",
       "      <td>246</td>\n",
       "      <td>10.2</td>\n",
       "      <td>apple</td>\n",
       "    </tr>\n",
       "    <tr>\n",
       "      <th>14</th>\n",
       "      <td>orange</td>\n",
       "      <td>0.75</td>\n",
       "      <td>111</td>\n",
       "      <td>6.7</td>\n",
       "      <td>clementine</td>\n",
       "    </tr>\n",
       "    <tr>\n",
       "      <th>15</th>\n",
       "      <td>red</td>\n",
       "      <td>0.20</td>\n",
       "      <td>167</td>\n",
       "      <td>8.5</td>\n",
       "      <td>apple</td>\n",
       "    </tr>\n",
       "    <tr>\n",
       "      <th>16</th>\n",
       "      <td>green</td>\n",
       "      <td>0.15</td>\n",
       "      <td>197</td>\n",
       "      <td>9.4</td>\n",
       "      <td>apple</td>\n",
       "    </tr>\n",
       "    <tr>\n",
       "      <th>17</th>\n",
       "      <td>orange</td>\n",
       "      <td>0.95</td>\n",
       "      <td>123</td>\n",
       "      <td>5.6</td>\n",
       "      <td>clementine</td>\n",
       "    </tr>\n",
       "    <tr>\n",
       "      <th>18</th>\n",
       "      <td>orange</td>\n",
       "      <td>1.00</td>\n",
       "      <td>132</td>\n",
       "      <td>4.8</td>\n",
       "      <td>clementine</td>\n",
       "    </tr>\n",
       "    <tr>\n",
       "      <th>19</th>\n",
       "      <td>orange</td>\n",
       "      <td>0.65</td>\n",
       "      <td>109</td>\n",
       "      <td>3.9</td>\n",
       "      <td>clementine</td>\n",
       "    </tr>\n",
       "  </tbody>\n",
       "</table>\n",
       "</div>"
      ],
      "text/plain": [
       "    Colour  Texture  Weight  Diameter       Fruit\n",
       "0      red     1.00     120       5.0       apple\n",
       "1   orange     0.80      98       4.0  clementine\n",
       "2    green     0.85     235       8.2       apple\n",
       "3   orange     0.90     105       5.2  clementine\n",
       "4   orange     0.60     125       6.4  clementine\n",
       "5    green     0.15     165       9.1       apple\n",
       "6      red     0.00     187      11.1       apple\n",
       "7   orange     1.00     103       5.7  clementine\n",
       "8      red     0.40     196       9.6       apple\n",
       "9   orange     0.35     112       4.4  clementine\n",
       "10  orange     0.55      96       6.1  clementine\n",
       "11     red     0.20     215       8.3       apple\n",
       "12     red     0.35     223      10.0       apple\n",
       "13   green     0.10     246      10.2       apple\n",
       "14  orange     0.75     111       6.7  clementine\n",
       "15     red     0.20     167       8.5       apple\n",
       "16   green     0.15     197       9.4       apple\n",
       "17  orange     0.95     123       5.6  clementine\n",
       "18  orange     1.00     132       4.8  clementine\n",
       "19  orange     0.65     109       3.9  clementine"
      ]
     },
     "execution_count": 1,
     "metadata": {},
     "output_type": "execute_result"
    }
   ],
   "source": [
    "import pandas as pd\n",
    "import matplotlib.pyplot as plt\n",
    "\n",
    "df = pd.read_csv('fruit.csv')\n",
    "df"
   ]
  },
  {
   "cell_type": "code",
   "execution_count": 2,
   "id": "ed8c9548",
   "metadata": {},
   "outputs": [
    {
     "name": "stdout",
     "output_type": "stream",
     "text": [
      "Colours : \t ['red' 'orange' 'green']\n",
      "Fruit : \t ['apple' 'clementine']\n"
     ]
    }
   ],
   "source": [
    "#Identify unique values for colours and fruit\n",
    "print(\"Colours : \\t\", df.Colour.unique())\n",
    "print(\"Fruit : \\t\", df.Fruit.unique())"
   ]
  },
  {
   "cell_type": "code",
   "execution_count": 3,
   "id": "ef33ed02",
   "metadata": {},
   "outputs": [
    {
     "data": {
      "text/plain": [
       "<AxesSubplot:xlabel='Weight', ylabel='Texture'>"
      ]
     },
     "execution_count": 3,
     "metadata": {},
     "output_type": "execute_result"
    },
    {
     "data": {
      "image/png": "[encoded data removed]",
      "text/plain": [
       "<Figure size 640x480 with 1 Axes>"
      ]
     },
     "metadata": {},
     "output_type": "display_data"
    }
   ],
   "source": [
    "#Scatter plot\n",
    "df.plot(x='Weight', y='Texture', kind='scatter')"
   ]
  },
  {
   "cell_type": "code",
   "execution_count": 4,
   "id": "2a6b18da",
   "metadata": {},
   "outputs": [
    {
     "data": {
      "text/plain": [
       "<AxesSubplot:xlabel='Weight', ylabel='Texture'>"
      ]
     },
     "execution_count": 4,
     "metadata": {},
     "output_type": "execute_result"
    },
    {
     "data": {
      "image/png": "[encoded data removed]",
      "text/plain": [
       "<Figure size 640x480 with 1 Axes>"
      ]
     },
     "metadata": {},
     "output_type": "display_data"
    }
   ],
   "source": [
    "#Create a seaborn scatter plot for samples from each class - Weight and Texture\n",
    "import seaborn as sns\n",
    "sns.scatterplot(x=\"Weight\", y=\"Texture\", hue='Fruit', markers=[\"c\", \"a\"], palette=['red', 'orange'], data=df, legend=False)"
   ]
  },
  {
   "cell_type": "code",
   "execution_count": 5,
   "id": "1ba257f3",
   "metadata": {},
   "outputs": [
    {
     "data": {
      "text/plain": [
       "<AxesSubplot:xlabel='Weight', ylabel='Diameter'>"
      ]
     },
     "execution_count": 5,
     "metadata": {},
     "output_type": "execute_result"
    },
    {
     "data": {
      "image/png": "[encoded data removed]",
      "text/plain": [
       "<Figure size 640x480 with 1 Axes>"
      ]
     },
     "metadata": {},
     "output_type": "display_data"
    }
   ],
   "source": [
    "#Create a seaborn scatter plot for samples from each class - Weight and Diameter\n",
    "import seaborn as sns\n",
    "sns.scatterplot(x=\"Weight\", y=\"Diameter\", hue='Fruit', markers=[\"c\", \"a\"], palette=['red', 'orange'], data=df, legend=False)"
   ]
  },
  {
   "cell_type": "code",
   "execution_count": 6,
   "id": "c126a455",
   "metadata": {},
   "outputs": [
    {
     "name": "stdout",
     "output_type": "stream",
     "text": [
      "    Colour  Texture  Weight  Diameter  Fruit\n",
      "0        0     1.00     120       5.0      0\n",
      "1        1     0.80      98       4.0      1\n",
      "2        2     0.85     235       8.2      0\n",
      "3        1     0.90     105       5.2      1\n",
      "4        1     0.60     125       6.4      1\n",
      "5        2     0.15     165       9.1      0\n",
      "6        0     0.00     187      11.1      0\n",
      "7        1     1.00     103       5.7      1\n",
      "8        0     0.40     196       9.6      0\n",
      "9        1     0.35     112       4.4      1\n",
      "10       1     0.55      96       6.1      1\n",
      "11       0     0.20     215       8.3      0\n",
      "12       0     0.35     223      10.0      0\n",
      "13       2     0.10     246      10.2      0\n",
      "14       1     0.75     111       6.7      1\n",
      "15       0     0.20     167       8.5      0\n",
      "16       2     0.15     197       9.4      0\n",
      "17       1     0.95     123       5.6      1\n",
      "18       1     1.00     132       4.8      1\n",
      "19       1     0.65     109       3.9      1\n"
     ]
    }
   ],
   "source": [
    "#Convert string to numbers to use for classification\n",
    "df['Colour'].replace(['red', 'orange', 'green'], [0, 1, 2], inplace=True)\n",
    "df['Fruit'].replace(['apple', 'clementine'], [0, 1], inplace=True)\n",
    "print(df)"
   ]
  },
  {
   "cell_type": "code",
   "execution_count": 7,
   "id": "8ed87426",
   "metadata": {},
   "outputs": [
    {
     "name": "stdout",
     "output_type": "stream",
     "text": [
      "[(120, 5.0), (98, 4.0), (235, 8.2), (105, 5.2), (125, 6.4), (165, 9.1), (187, 11.1), (103, 5.7), (196, 9.6), (112, 4.4), (96, 6.1), (215, 8.3), (223, 10.0), (246, 10.2), (111, 6.7), (167, 8.5), (197, 9.4), (123, 5.6), (132, 4.8), (109, 3.9)]\n"
     ]
    },
    {
     "data": {
      "text/html": [
       "<style>#sk-container-id-1 {color: black;background-color: white;}#sk-container-id-1 pre{padding: 0;}#sk-container-id-1 div.sk-toggleable {background-color: white;}#sk-container-id-1 label.sk-toggleable__label {cursor: pointer;display: block;width: 100%;margin-bottom: 0;padding: 0.3em;box-sizing: border-box;text-align: center;}#sk-container-id-1 label.sk-toggleable__label-arrow:before {content: \"▸\";float: left;margin-right: 0.25em;color: #696969;}#sk-container-id-1 label.sk-toggleable__label-arrow:hover:before {color: black;}#sk-container-id-1 div.sk-estimator:hover label.sk-toggleable__label-arrow:before {color: black;}#sk-container-id-1 div.sk-toggleable__content {max-height: 0;max-width: 0;overflow: hidden;text-align: left;background-color: #f0f8ff;}#sk-container-id-1 div.sk-toggleable__content pre {margin: 0.2em;color: black;border-radius: 0.25em;background-color: #f0f8ff;}#sk-container-id-1 input.sk-toggleable__control:checked~div.sk-toggleable__content {max-height: 200px;max-width: 100%;overflow: auto;}#sk-container-id-1 input.sk-toggleable__control:checked~label.sk-toggleable__label-arrow:before {content: \"▾\";}#sk-container-id-1 div.sk-estimator input.sk-toggleable__control:checked~label.sk-toggleable__label {background-color: #d4ebff;}#sk-container-id-1 div.sk-label input.sk-toggleable__control:checked~label.sk-toggleable__label {background-color: #d4ebff;}#sk-container-id-1 input.sk-hidden--visually {border: 0;clip: rect(1px 1px 1px 1px);clip: rect(1px, 1px, 1px, 1px);height: 1px;margin: -1px;overflow: hidden;padding: 0;position: absolute;width: 1px;}#sk-container-id-1 div.sk-estimator {font-family: monospace;background-color: #f0f8ff;border: 1px dotted black;border-radius: 0.25em;box-sizing: border-box;margin-bottom: 0.5em;}#sk-container-id-1 div.sk-estimator:hover {background-color: #d4ebff;}#sk-container-id-1 div.sk-parallel-item::after {content: \"\";width: 100%;border-bottom: 1px solid gray;flex-grow: 1;}#sk-container-id-1 div.sk-label:hover label.sk-toggleable__label {background-color: #d4ebff;}#sk-container-id-1 div.sk-serial::before {content: \"\";position: absolute;border-left: 1px solid gray;box-sizing: border-box;top: 0;bottom: 0;left: 50%;z-index: 0;}#sk-container-id-1 div.sk-serial {display: flex;flex-direction: column;align-items: center;background-color: white;padding-right: 0.2em;padding-left: 0.2em;position: relative;}#sk-container-id-1 div.sk-item {position: relative;z-index: 1;}#sk-container-id-1 div.sk-parallel {display: flex;align-items: stretch;justify-content: center;background-color: white;position: relative;}#sk-container-id-1 div.sk-item::before, #sk-container-id-1 div.sk-parallel-item::before {content: \"\";position: absolute;border-left: 1px solid gray;box-sizing: border-box;top: 0;bottom: 0;left: 50%;z-index: -1;}#sk-container-id-1 div.sk-parallel-item {display: flex;flex-direction: column;z-index: 1;position: relative;background-color: white;}#sk-container-id-1 div.sk-parallel-item:first-child::after {align-self: flex-end;width: 50%;}#sk-container-id-1 div.sk-parallel-item:last-child::after {align-self: flex-start;width: 50%;}#sk-container-id-1 div.sk-parallel-item:only-child::after {width: 0;}#sk-container-id-1 div.sk-dashed-wrapped {border: 1px dashed gray;margin: 0 0.4em 0.5em 0.4em;box-sizing: border-box;padding-bottom: 0.4em;background-color: white;}#sk-container-id-1 div.sk-label label {font-family: monospace;font-weight: bold;display: inline-block;line-height: 1.2em;}#sk-container-id-1 div.sk-label-container {text-align: center;}#sk-container-id-1 div.sk-container {/* jupyter's `normalize.less` sets `[hidden] { display: none; }` but bootstrap.min.css set `[hidden] { display: none !important; }` so we also need the `!important` here to be able to override the default hidden behavior on the sphinx rendered scikit-learn.org. See: https://github.com/scikit-learn/scikit-learn/issues/21755 */display: inline-block !important;position: relative;}#sk-container-id-1 div.sk-text-repr-fallback {display: none;}</style><div id=\"sk-container-id-1\" class=\"sk-top-container\"><div class=\"sk-text-repr-fallback\"><pre>KNeighborsClassifier(n_neighbors=3, weights=&#x27;distance&#x27;)</pre><b>In a Jupyter environment, please rerun this cell to show the HTML representation or trust the notebook. <br />On GitHub, the HTML representation is unable to render, please try loading this page with nbviewer.org.</b></div><div class=\"sk-container\" hidden><div class=\"sk-item\"><div class=\"sk-estimator sk-toggleable\"><input class=\"sk-toggleable__control sk-hidden--visually\" id=\"sk-estimator-id-1\" type=\"checkbox\" checked><label for=\"sk-estimator-id-1\" class=\"sk-toggleable__label sk-toggleable__label-arrow\">KNeighborsClassifier</label><div class=\"sk-toggleable__content\"><pre>KNeighborsClassifier(n_neighbors=3, weights=&#x27;distance&#x27;)</pre></div></div></div></div></div>"
      ],
      "text/plain": [
       "KNeighborsClassifier(n_neighbors=3, weights='distance')"
      ]
     },
     "execution_count": 7,
     "metadata": {},
     "output_type": "execute_result"
    }
   ],
   "source": [
    "from sklearn.model_selection import train_test_split\n",
    "from sklearn import neighbors\n",
    "\n",
    "#Number of neighbors\n",
    "n_neighbors = 3\n",
    "\n",
    "#Prepare data. Zip function iterates tuples, pairing together the items from each tuple, this is needed to fit the data\n",
    "features=['Weight', 'Diameter']\n",
    "w = df['Weight'].values\n",
    "d = df['Diameter'].values\n",
    "\n",
    "features=list(zip(w, d))\n",
    "\n",
    "\n",
    "# features=df[['Weight','Diameter']]\n",
    "\n",
    "print(features)\n",
    "\n",
    "X = features\n",
    "y = df.Fruit\n",
    "\n",
    "\n",
    "X_train, X_test, y_train, y_test = train_test_split(X, y, test_size = 0.3)\n",
    "\n",
    "\n",
    "#Create an instance of the K-Nearest Neighbors Classifier and fit the data. Weight can be set as \"uniform\" or \"distance\"\n",
    "clffruit = neighbors.KNeighborsClassifier(n_neighbors, weights='distance')\n",
    "clffruit.fit(X_train, y_train)"
   ]
  },
  {
   "cell_type": "code",
   "execution_count": 8,
   "id": "073f2649",
   "metadata": {},
   "outputs": [
    {
     "name": "stdout",
     "output_type": "stream",
     "text": [
      "[(103, 5.7), (112, 4.4), (223, 10.0), (196, 9.6), (197, 9.4), (246, 10.2)]\n",
      "7     1\n",
      "9     1\n",
      "12    0\n",
      "8     0\n",
      "16    0\n",
      "13    0\n",
      "Name: Fruit, dtype: int64\n",
      "[1 1 0 0 0 0]\n"
     ]
    }
   ],
   "source": [
    "#Predicting fruit based on Weight and Diameter\n",
    "predicted = clffruit.predict(X_test)\n",
    "print(X_test)\n",
    "print(y_test)\n",
    "print(predicted)\n",
    "\n",
    "#To predict using different vlaues\n",
    "#predicted= clffruit.predict([[180,8]])\n"
   ]
  },
  {
   "cell_type": "code",
   "execution_count": 9,
   "id": "11c4f04d",
   "metadata": {},
   "outputs": [
    {
     "name": "stdout",
     "output_type": "stream",
     "text": [
      "100.0\n"
     ]
    }
   ],
   "source": [
    "#Displaying the accuracy score\n",
    "from sklearn.metrics import accuracy_score\n",
    "accuracy = accuracy_score(y_test,predicted)\n",
    "print(accuracy*100)"
   ]
  },
  {
   "cell_type": "code",
   "execution_count": null,
   "id": "35131828",
   "metadata": {},
   "outputs": [],
   "source": []
  }
 ],
 "metadata": {
  "kernelspec": {
   "display_name": "Python 3",
   "language": "python",
   "name": "python3"
  },
  "language_info": {
   "codemirror_mode": {
    "name": "ipython",
    "version": 3
   },
   "file_extension": ".py",
   "mimetype": "text/x-python",
   "name": "python",
   "nbconvert_exporter": "python",
   "pygments_lexer": "ipython3",
   "version": "3.9.13"
  },
  "vscode": {
   "interpreter": {
    "hash": "d4d1e4263499bec80672ea0156c357c1ee493ec2b1c70f0acce89fc37c4a6abe"
   }
  }
 },
 "nbformat": 4,
 "nbformat_minor": 5
}
