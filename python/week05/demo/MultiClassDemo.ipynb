{
 "cells": [
  {
   "cell_type": "code",
   "execution_count": null,
   "id": "1c4cf160",
   "metadata": {},
   "outputs": [],
   "source": [
    "import pandas as pd\n",
    "df = pd.read_csv('fruits.csv')\n",
    "df"
   ]
  },
  {
   "cell_type": "code",
   "execution_count": null,
   "id": "ed8c9548",
   "metadata": {},
   "outputs": [],
   "source": [
    "#Identify unique values for colours and fruit\n",
    "print(\"Colours : \\t\", df.Colour.unique())\n",
    "print(\"Fruit : \\t\", df.Fruit.unique())"
   ]
  },
  {
   "cell_type": "code",
   "execution_count": null,
   "id": "7c7f856a",
   "metadata": {},
   "outputs": [],
   "source": [
    "#Plot a bar chart to show number of occurences to see if the data is balance.\n",
    "X = df.iloc[:, :-1]\n",
    "y = df['Fruit']\n",
    "y.value_counts().sort_values().plot.bar(x='Target Value', y='Number of Occurrences')"
   ]
  },
  {
   "cell_type": "code",
   "execution_count": null,
   "id": "ef33ed02",
   "metadata": {},
   "outputs": [],
   "source": [
    "#Scatter plot\n",
    "df.plot(x='Weight', y='Texture', kind='scatter')"
   ]
  },
  {
   "cell_type": "code",
   "execution_count": null,
   "id": "2a6b18da",
   "metadata": {},
   "outputs": [],
   "source": [
    "#Create a seaborn scatter plot for samples from each class - Weight and Texture\n",
    "import seaborn as sns\n",
    "sns.scatterplot(x=\"Weight\", y=\"Texture\", hue='Fruit', palette=['red', 'orange', 'yellow'], data=df, legend=False)"
   ]
  },
  {
   "cell_type": "code",
   "execution_count": null,
   "id": "1ba257f3",
   "metadata": {},
   "outputs": [],
   "source": [
    "#Create a seaborn scatter plot for samples from each class - Weight and Diameter\n",
    "import seaborn as sns\n",
    "sns.scatterplot(x=\"Weight\", y=\"Diameter\", hue='Fruit', palette=['red', 'orange', 'yellow'], data=df, legend=False)"
   ]
  },
  {
   "cell_type": "code",
   "execution_count": null,
   "id": "c126a455",
   "metadata": {},
   "outputs": [],
   "source": [
    "#Convert string to numbers to use for classification\n",
    "df['Colour'].replace(['red', 'orange', 'green', 'yellow'], [0, 1, 2, 3], inplace=True)\n",
    "df['Fruit'].replace(['apple', 'clementine', 'banana'], [0, 1, 2], inplace=True)\n",
    "print(df)"
   ]
  },
  {
   "cell_type": "code",
   "execution_count": null,
   "id": "8ed87426",
   "metadata": {},
   "outputs": [],
   "source": [
    "from sklearn.model_selection import train_test_split\n",
    "from sklearn import neighbors\n",
    "\n",
    "#Number of neighbors\n",
    "n_neighbors = 3\n",
    "\n",
    "feature_cols = ['Colour', 'Texture', 'Weight', 'Diameter']\n",
    "X = df[feature_cols]\n",
    "y = df.Fruit\n",
    "\n",
    "X_train, X_test, y_train, y_test = train_test_split(X, y, test_size = 0.3)\n",
    "\n",
    "\n",
    "#Create an instance of the KNN Classifier and fit the data.\n",
    "clffruit = neighbors.KNeighborsClassifier(n_neighbors)\n",
    "clffruit.fit(X_train, y_train)"
   ]
  },
  {
   "cell_type": "code",
   "execution_count": null,
   "id": "073f2649",
   "metadata": {},
   "outputs": [],
   "source": [
    "#Predicting fruit based on Weight and Diameter\n",
    "predicted = clffruit.predict(X_test)\n",
    "print(X_test)\n",
    "print(y_test)\n",
    "print(predicted)\n",
    "\n",
    "#To predict using different vlaues\n",
    "#predicted= clffruit.predict([[180,8]])\n"
   ]
  },
  {
   "cell_type": "code",
   "execution_count": null,
   "id": "11c4f04d",
   "metadata": {},
   "outputs": [],
   "source": [
    "#Displaying the accuracy score\n",
    "from sklearn.metrics import accuracy_score\n",
    "accuracy = accuracy_score(y_test,predicted)\n",
    "print(accuracy*100)"
   ]
  },
  {
   "cell_type": "code",
   "execution_count": null,
   "id": "35131828",
   "metadata": {},
   "outputs": [],
   "source": [
    "from sklearn.model_selection import train_test_split\n",
    "from sklearn import tree\n",
    "\n",
    "#Prepare data and split into test/train data\n",
    "feature_cols = ['Colour', 'Texture', 'Weight', 'Diameter']\n",
    "X = df[feature_cols]\n",
    "y = df.Fruit\n",
    "\n",
    "X_train, X_test, y_train, y_test = train_test_split(X, y, test_size = 0.3)\n",
    "\n",
    "\n",
    "#Create an instance of the Decision Tress Classifier and fit the data.\n",
    "clffruit = tree.DecisionTreeClassifier()\n",
    "clffruit.fit(X_train, y_train)"
   ]
  },
  {
   "cell_type": "code",
   "execution_count": null,
   "id": "a9a4f4cc",
   "metadata": {},
   "outputs": [],
   "source": [
    "#Plot the decision tree\n",
    "from sklearn import tree\n",
    "fig, ax = plt.subplots(figsize=(10, 10))\n",
    "tree.plot_tree(clffruit, fontsize=10)\n",
    "plt.show()"
   ]
  },
  {
   "cell_type": "code",
   "execution_count": null,
   "id": "323ba2e6",
   "metadata": {},
   "outputs": [],
   "source": [
    "#Predicting fruit using test data\n",
    "predicted = clffruit.predict(X_test)\n",
    "print(X_test)\n",
    "print(y_test)\n",
    "print(predicted)"
   ]
  },
  {
   "cell_type": "code",
   "execution_count": null,
   "id": "4736ff56",
   "metadata": {},
   "outputs": [],
   "source": [
    "#Displaying the accuracy score\n",
    "from sklearn.metrics import accuracy_score\n",
    "accuracy = accuracy_score(y_test,predicted)\n",
    "print(accuracy*100)"
   ]
  },
  {
   "cell_type": "code",
   "execution_count": null,
   "id": "0be6b694",
   "metadata": {},
   "outputs": [],
   "source": []
  }
 ],
 "metadata": {
  "kernelspec": {
   "display_name": "Python 3 (ipykernel)",
   "language": "python",
   "name": "python3"
  },
  "language_info": {
   "codemirror_mode": {
    "name": "ipython",
    "version": 3
   },
   "file_extension": ".py",
   "mimetype": "text/x-python",
   "name": "python",
   "nbconvert_exporter": "python",
   "pygments_lexer": "ipython3",
   "version": "3.9.12"
  }
 },
 "nbformat": 4,
 "nbformat_minor": 5
}
