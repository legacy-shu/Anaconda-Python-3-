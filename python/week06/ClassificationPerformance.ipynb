{
 "cells": [
  {
   "cell_type": "markdown",
   "id": "017bff63",
   "metadata": {},
   "source": [
    "# MNIST Task\n",
    "\n",
    "MNIST stands for Mixed National Institute of Standards and Technology, which has produced a handwritten digits dataset. This is one of the most researched datasets in machine learning, and is used to classify handwritten digits. This dataset contains 60,000 training images and 10,000 testing images, formatted as 28 x 28 pixel monochrome images. \n",
    "\n"
   ]
  },
  {
   "cell_type": "code",
   "execution_count": 2,
   "id": "fe20a768",
   "metadata": {},
   "outputs": [],
   "source": [
    "#Import the required libraries\n",
    "from matplotlib import pyplot as plt\n",
    "from sklearn.model_selection import train_test_split\n",
    "from sklearn.neighbors import KNeighborsClassifier\n",
    "from sklearn import svm\n",
    "from sklearn.metrics import accuracy_score\n",
    "from sklearn.model_selection import cross_val_score\n",
    "from sklearn import metrics\n",
    "from sklearn.metrics import confusion_matrix, classification_report\n",
    "import pickle\n",
    "import pandas as pd\n",
    "import seaborn as sns\n",
    "import numpy as np\n",
    "from scipy.io import arff\n"
   ]
  },
  {
   "cell_type": "code",
   "execution_count": 3,
   "id": "a5b2bccf",
   "metadata": {},
   "outputs": [],
   "source": [
    "#Load the digits dataset, and separate the features and targets"
   ]
  },
  {
   "cell_type": "markdown",
   "id": "c161e7c5",
   "metadata": {},
   "source": [
    "# Task 1. Use subplots to display the first 100 image samples\n",
    "It is time to test your skills in using matplotlib and our recommended coding style.\n",
    "You may use a for loop. Check the example\n"
   ]
  },
  {
   "cell_type": "code",
   "execution_count": null,
   "id": "cde7fb33",
   "metadata": {},
   "outputs": [],
   "source": []
  },
  {
   "cell_type": "markdown",
   "id": "920c40ad",
   "metadata": {},
   "source": [
    "# Task 2. Train Test Split (not the usual way)\n",
    "The last 10,000 images from the MNIST dataset are for testing, so you can compare the accuracy others. Do not use the train_test_split function here.\n",
    "\n",
    "Hint: Check out the data format of X and y.You can use indexing/slicing techniques for array/matrix/list\n"
   ]
  },
  {
   "cell_type": "code",
   "execution_count": 15,
   "id": "2a41beb8",
   "metadata": {},
   "outputs": [],
   "source": [
    "X_train = \n",
    "X_test = \n",
    "y_train = \n",
    "y_test = "
   ]
  },
  {
   "cell_type": "markdown",
   "id": "2f7204fd",
   "metadata": {},
   "source": [
    "# Task 3. Plot the histogram (10 bins) for counting the number of each label from training dataset "
   ]
  },
  {
   "cell_type": "code",
   "execution_count": null,
   "id": "4af5dcdf",
   "metadata": {},
   "outputs": [],
   "source": []
  },
  {
   "cell_type": "markdown",
   "id": "7c3278c8",
   "metadata": {},
   "source": [
    "# Task 4. Training\n",
    "\n",
    "\n",
    "*  Train at least two models: KNN and SVM\n",
    "*  __Warning__: Training the model will take some time (especially the SVM)\n",
    "*  __Warning__: Obtaining the accuracy score will also be very slow, and the score is less useful in a multi-label task (i.e. which label is more accurate?). We will use more helpful tools to evaluate the system\n",
    "\n"
   ]
  },
  {
   "cell_type": "markdown",
   "id": "15911554",
   "metadata": {},
   "source": [
    "#Using Cross Validation and other Evaluation Metrics"
   ]
  },
  {
   "cell_type": "code",
   "execution_count": null,
   "id": "1b6b7297",
   "metadata": {},
   "outputs": [],
   "source": []
  },
  {
   "cell_type": "markdown",
   "id": "1f416cce",
   "metadata": {},
   "source": [
    "# Generate the classification report for each model\n",
    "\n",
    ">Classification report using sklearn [Doc] (https://scikit-learn.org/stable/modules/generated/sklearn.metrics.classification_report.html)"
   ]
  },
  {
   "cell_type": "code",
   "execution_count": 21,
   "id": "11d74556",
   "metadata": {},
   "outputs": [],
   "source": [
    "#Generate the classification report using classification_report function, and include the target labels as one of its arguments"
   ]
  },
  {
   "cell_type": "markdown",
   "id": "1116f1df",
   "metadata": {},
   "source": [
    "## Measuring Accuracy using Cross-Validation\n",
    "\n",
    "Use the *k-fold* `cross_val_score()` from __Scikit-Learn__ to evaluate the model. Check the [Doc](https://scikit-learn.org/stable/modules/generated/sklearn.model_selection.cross_val_score.html) for more details.\n",
    ">Use 10 for the value of CV.\n",
    "\n",
    ">Compute the mean accuracy of the models.\n",
    "\n",
    "> As a side note, visit this [Doc](https://scikit-learn.org/stable/modules/model_evaluation.html#scoring-parameter) if you want to know more scoring metrics\n",
    "\n",
    "Note: We can use the last 5000 data points from the training data for the validation.\n",
    "Slice the last 5000 data from training dataset\n",
    "name it as X_validation and y_validation\n",
    "\n",
    "\n",
    "\n"
   ]
  },
  {
   "cell_type": "code",
   "execution_count": 28,
   "id": "de8fe949",
   "metadata": {},
   "outputs": [],
   "source": [
    "#Use the last 5000 for X_validation and y_validation"
   ]
  },
  {
   "cell_type": "code",
   "execution_count": 1,
   "id": "61a27ce2",
   "metadata": {},
   "outputs": [],
   "source": [
    "#Evaluate the model using cross_val_score using cv =10, you can tune the value of CV for better performance if required."
   ]
  },
  {
   "cell_type": "code",
   "execution_count": 2,
   "id": "6dab76ad",
   "metadata": {},
   "outputs": [],
   "source": [
    "#Compute the mean accuracy score"
   ]
  },
  {
   "cell_type": "code",
   "execution_count": null,
   "id": "9a79d10b",
   "metadata": {},
   "outputs": [],
   "source": [
    "#Use X and y to cross validate the model."
   ]
  },
  {
   "cell_type": "code",
   "execution_count": null,
   "id": "61d17fdc",
   "metadata": {},
   "outputs": [],
   "source": [
    "#Compute the new mean accuracy and compare your result with the above."
   ]
  },
  {
   "cell_type": "markdown",
   "id": "15c1ec3d",
   "metadata": {},
   "source": [
    "#Can you find the optimal model for k=[1-11]?"
   ]
  },
  {
   "cell_type": "code",
   "execution_count": 3,
   "id": "d0ecb7a1",
   "metadata": {},
   "outputs": [],
   "source": [
    "#Search for the optimal value of neighbours for KNN using range(1,11,2)."
   ]
  },
  {
   "cell_type": "code",
   "execution_count": 4,
   "id": "5eb64aa8",
   "metadata": {},
   "outputs": [],
   "source": [
    "#Print the list of accuracies for each value of CV"
   ]
  },
  {
   "cell_type": "code",
   "execution_count": 5,
   "id": "69c97081",
   "metadata": {},
   "outputs": [],
   "source": [
    "#Print the average accuracy per value of k"
   ]
  },
  {
   "cell_type": "code",
   "execution_count": 6,
   "id": "762bc392",
   "metadata": {},
   "outputs": [],
   "source": [
    "#Print the mean accuracy for all values of k"
   ]
  },
  {
   "cell_type": "code",
   "execution_count": null,
   "id": "ca7b9822",
   "metadata": {},
   "outputs": [],
   "source": [
    "#Draw a line plot showing the values of cross validated accuracies against k"
   ]
  },
  {
   "cell_type": "code",
   "execution_count": 7,
   "id": "c547965d",
   "metadata": {},
   "outputs": [],
   "source": [
    "#Plot n value for KNN against the accuracy"
   ]
  },
  {
   "cell_type": "markdown",
   "id": "5870907e",
   "metadata": {},
   "source": [
    "# Generating the confusion matrix\n",
    "## Create a Confusion Matrix\n",
    "\n",
    "A much detailed evaluation to evaluate the performance of a classifier is to look at the *confusion matrix*. \n",
    "\n",
    "To compute the confusion matrix, you first need to have a set of __predicitions__ so that then can be compared to the actual targets.\n",
    "\n",
    "\n",
    "*   Generate a predicition set from the test samples\n",
    "*   Create the 10-class normalised and non-normalised confusion matrices. Check the [Doc](https://scikit-learn.org/stable/modules/generated/sklearn.metrics.confusion_matrix.html) for more details\n",
    "*   Display the raw matrix and use it to evaluate the system performance. Which class is more easy to be \"confused\"?\n",
    "*   __[Option]__ Illustrate the matrix as a heatmap [Recap](https://seaborn.pydata.org/generated/seaborn.heatmap.html)\n",
    "*   __[Option]__ Based on the matrix, can you display some/all handwriting samples from the incorrect predictions? For example, some \"5\" are recognised as \"3\", Do you think they are tricky to distinguish?\n",
    "\n"
   ]
  },
  {
   "cell_type": "code",
   "execution_count": null,
   "id": "3b8cdc37",
   "metadata": {},
   "outputs": [],
   "source": [
    "#Normalised confusion matrix"
   ]
  },
  {
   "cell_type": "code",
   "execution_count": null,
   "id": "a48c0c93",
   "metadata": {},
   "outputs": [],
   "source": [
    "#Non-normalised confusion matrix"
   ]
  },
  {
   "cell_type": "code",
   "execution_count": 8,
   "id": "8201a5f4",
   "metadata": {},
   "outputs": [],
   "source": [
    "#Using subplots and heatmap, plot the heat map of the confusion matrix, set figsize  = (10,10)"
   ]
  },
  {
   "cell_type": "markdown",
   "id": "7fe2c4d6",
   "metadata": {},
   "source": [
    "# Repeat the above for the SVM"
   ]
  },
  {
   "cell_type": "code",
   "execution_count": null,
   "id": "0c0d1589",
   "metadata": {},
   "outputs": [],
   "source": []
  },
  {
   "cell_type": "code",
   "execution_count": null,
   "id": "6783d58a",
   "metadata": {},
   "outputs": [],
   "source": []
  },
  {
   "cell_type": "code",
   "execution_count": null,
   "id": "fa3732fb",
   "metadata": {},
   "outputs": [],
   "source": []
  },
  {
   "cell_type": "code",
   "execution_count": null,
   "id": "2af31e93",
   "metadata": {},
   "outputs": [],
   "source": []
  }
 ],
 "metadata": {
  "kernelspec": {
   "display_name": "Python 3",
   "language": "python",
   "name": "python3"
  },
  "language_info": {
   "codemirror_mode": {
    "name": "ipython",
    "version": 3
   },
   "file_extension": ".py",
   "mimetype": "text/x-python",
   "name": "python",
   "nbconvert_exporter": "python",
   "pygments_lexer": "ipython3",
   "version": "3.9.13"
  },
  "vscode": {
   "interpreter": {
    "hash": "d4d1e4263499bec80672ea0156c357c1ee493ec2b1c70f0acce89fc37c4a6abe"
   }
  }
 },
 "nbformat": 4,
 "nbformat_minor": 5
}
