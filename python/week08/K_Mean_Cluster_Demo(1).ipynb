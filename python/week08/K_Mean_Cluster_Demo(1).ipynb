{
 "cells": [
  {
   "cell_type": "code",
   "execution_count": null,
   "metadata": {},
   "outputs": [],
   "source": [
    "pip install yellowbrick"
   ]
  },
  {
   "cell_type": "code",
   "execution_count": null,
   "metadata": {
    "colab": {
     "base_uri": "https://localhost:8080/",
     "height": 514
    },
    "id": "Hd4bjMFQ7086",
    "outputId": "1f686d61-a7d5-4dba-ef72-be5bf736a898"
   },
   "outputs": [],
   "source": [
    "#Load the data\n",
    "import matplotlib.pyplot as plt\n",
    "import pandas as pd\n",
    "X = pd.read_csv('blobs.csv',header=None,names=['X1', 'X2'])\n",
    "X.plot.scatter('X1','X2',figsize=(15,8))"
   ]
  },
  {
   "cell_type": "code",
   "execution_count": null,
   "metadata": {
    "id": "NuauXhPk8wgE"
   },
   "outputs": [],
   "source": [
    "from sklearn.cluster import KMeans\n",
    "k=5\n",
    "kmeans = KMeans(n_clusters=k)\n",
    "y = kmeans.fit_predict(X)"
   ]
  },
  {
   "cell_type": "code",
   "execution_count": null,
   "metadata": {
    "colab": {
     "base_uri": "https://localhost:8080/"
    },
    "id": "U5p4Xedu84xK",
    "outputId": "349d8a80-6af3-453b-a5a4-fc0139eefff0"
   },
   "outputs": [],
   "source": [
    "kmeans.cluster_centers_"
   ]
  },
  {
   "cell_type": "code",
   "execution_count": null,
   "metadata": {
    "colab": {
     "base_uri": "https://localhost:8080/"
    },
    "id": "gLyvxQfi9zgl",
    "outputId": "e3ab7f63-6322-47d1-d5fc-151ded24fc43"
   },
   "outputs": [],
   "source": [
    "X[y==0]['X1']"
   ]
  },
  {
   "cell_type": "code",
   "execution_count": null,
   "metadata": {
    "colab": {
     "base_uri": "https://localhost:8080/",
     "height": 500
    },
    "id": "WDniGR7_9BY3",
    "outputId": "b51f5195-75ae-48e1-f15b-3f277af8797f"
   },
   "outputs": [],
   "source": [
    "f, ax = plt.subplots(figsize=(15,8))\n",
    "ax.scatter(X[y==0]['X1'],X[y==0]['X2'],c='red')\n",
    "ax.scatter(X[y==1]['X1'],X[y==1]['X2'],c='blue')\n",
    "ax.scatter(X[y==2]['X1'],X[y==2]['X2'],c='green')\n",
    "ax.scatter(X[y==3]['X1'],X[y==3]['X2'],c='yellow')\n",
    "ax.scatter(X[y==4]['X1'],X[y==4]['X2'],c='gray')"
   ]
  },
  {
   "cell_type": "code",
   "execution_count": null,
   "metadata": {
    "colab": {
     "base_uri": "https://localhost:8080/",
     "height": 435
    },
    "id": "kXRwQIcP-hBL",
    "outputId": "651dc0d1-e69f-44d4-e38f-2cd90e812ff1"
   },
   "outputs": [],
   "source": [
    "\n",
    "from yellowbrick.cluster import SilhouetteVisualizer\n",
    "visModel = SilhouetteVisualizer(kmeans)\n",
    "visModel.fit(X)"
   ]
  },
  {
   "cell_type": "code",
   "execution_count": null,
   "metadata": {
    "colab": {
     "base_uri": "https://localhost:8080/",
     "height": 435
    },
    "id": "IxOjYJgN-w06",
    "outputId": "45238fda-a11d-4327-9b3a-235ae934413e"
   },
   "outputs": [],
   "source": [
    "k=3\n",
    "kmeans = KMeans(n_clusters=k)\n",
    "y = kmeans.fit_predict(X)\n",
    "visModel = SilhouetteVisualizer(kmeans)\n",
    "visModel.fit(X)"
   ]
  },
  {
   "cell_type": "code",
   "execution_count": null,
   "metadata": {
    "colab": {
     "base_uri": "https://localhost:8080/",
     "height": 435
    },
    "id": "hQ0-pgXQ-2IV",
    "outputId": "b8554fc5-b49e-4436-8ee2-500a39dac324"
   },
   "outputs": [],
   "source": [
    "k=4\n",
    "kmeans = KMeans(n_clusters=k)\n",
    "y = kmeans.fit_predict(X)\n",
    "visModel = SilhouetteVisualizer(kmeans)\n",
    "visModel.fit(X)"
   ]
  },
  {
   "cell_type": "code",
   "execution_count": null,
   "metadata": {
    "colab": {
     "base_uri": "https://localhost:8080/",
     "height": 435
    },
    "id": "ID_nKiej-7Ta",
    "outputId": "6b264696-5afe-4b14-8734-9562fb295fd4"
   },
   "outputs": [],
   "source": [
    "k=6\n",
    "kmeans = KMeans(n_clusters=k)\n",
    "y = kmeans.fit_predict(X)\n",
    "visModel = SilhouetteVisualizer(kmeans)\n",
    "visModel.fit(X)"
   ]
  },
  {
   "cell_type": "code",
   "execution_count": null,
   "metadata": {},
   "outputs": [],
   "source": []
  }
 ],
 "metadata": {
  "colab": {
   "name": "K_Mean_Cluster_Demo.ipynb",
   "provenance": []
  },
  "kernelspec": {
   "display_name": "Python 3 (ipykernel)",
   "language": "python",
   "name": "python3"
  },
  "language_info": {
   "codemirror_mode": {
    "name": "ipython",
    "version": 3
   },
   "file_extension": ".py",
   "mimetype": "text/x-python",
   "name": "python",
   "nbconvert_exporter": "python",
   "pygments_lexer": "ipython3",
   "version": "3.9.12"
  }
 },
 "nbformat": 4,
 "nbformat_minor": 1
}
